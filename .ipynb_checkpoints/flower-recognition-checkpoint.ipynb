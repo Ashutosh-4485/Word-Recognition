{
 "cells": [
  {
   "cell_type": "markdown",
   "metadata": {},
   "source": [
    "# **Importing Libraries**"
   ]
  },
  {
   "cell_type": "code",
   "execution_count": null,
   "metadata": {
    "execution": {
     "iopub.execute_input": "2024-04-10T15:19:04.427437Z",
     "iopub.status.busy": "2024-04-10T15:19:04.427092Z",
     "iopub.status.idle": "2024-04-10T15:19:17.236306Z",
     "shell.execute_reply": "2024-04-10T15:19:17.235528Z",
     "shell.execute_reply.started": "2024-04-10T15:19:04.427409Z"
    }
   },
   "outputs": [],
   "source": [
    "import numpy as np\n",
    "import pandas as pd\n",
    "import matplotlib.pyplot as plt\n",
    "from matplotlib.image import imread\n",
    "import os\n",
    "import random\n",
    "import PIL\n",
    "import tensorflow as tf\n",
    "from tensorflow.keras.layers import Activation, Dense, Flatten, Input, Conv2D, MaxPooling2D, Dropout, BatchNormalization\n",
    "from tensorflow.keras.models import Model\n",
    "from tensorflow.keras.models import Sequential\n",
    "from tensorflow.keras.callbacks import EarlyStopping\n",
    "from tensorflow.keras.applications.resnet import ResNet152, preprocess_input, decode_predictions, ResNet50\n",
    "from sklearn.metrics import classification_report, confusion_matrix, roc_auc_score, roc_curve\n",
    "from tensorflow.keras.utils import plot_model\n",
    "from tensorflow.keras.preprocessing.image import img_to_array, load_img, array_to_img\n",
    "import seaborn as sns"
   ]
  },
  {
   "cell_type": "markdown",
   "metadata": {},
   "source": [
    "# **Getting the Data**"
   ]
  },
  {
   "cell_type": "code",
   "execution_count": null,
   "metadata": {
    "execution": {
     "iopub.execute_input": "2024-04-10T15:19:17.238249Z",
     "iopub.status.busy": "2024-04-10T15:19:17.237772Z",
     "iopub.status.idle": "2024-04-10T15:19:17.245056Z",
     "shell.execute_reply": "2024-04-10T15:19:17.244217Z",
     "shell.execute_reply.started": "2024-04-10T15:19:17.238223Z"
    }
   },
   "outputs": [],
   "source": [
    "pwd"
   ]
  },
  {
   "cell_type": "code",
   "execution_count": null,
   "metadata": {
    "execution": {
     "iopub.execute_input": "2024-04-10T15:19:17.246476Z",
     "iopub.status.busy": "2024-04-10T15:19:17.246214Z",
     "iopub.status.idle": "2024-04-10T15:19:17.265506Z",
     "shell.execute_reply": "2024-04-10T15:19:17.264725Z",
     "shell.execute_reply.started": "2024-04-10T15:19:17.246455Z"
    }
   },
   "outputs": [],
   "source": [
    "my_data_dir='Dataset'"
   ]
  },
  {
   "cell_type": "markdown",
   "metadata": {},
   "source": [
    "# **Train Test Split**"
   ]
  },
  {
   "cell_type": "code",
   "execution_count": null,
   "metadata": {
    "execution": {
     "iopub.execute_input": "2024-04-10T15:19:17.268753Z",
     "iopub.status.busy": "2024-04-10T15:19:17.267961Z",
     "iopub.status.idle": "2024-04-10T15:19:42.234456Z",
     "shell.execute_reply": "2024-04-10T15:19:42.233489Z",
     "shell.execute_reply.started": "2024-04-10T15:19:17.268707Z"
    }
   },
   "outputs": [],
   "source": [
    "import os\n",
    "import shutil\n",
    "import random\n",
    "\n",
    "# Veri setinin bulunduğu dizin\n",
    "data_dir = \"Dataset\"\n",
    "\n",
    "# Train ve test dizinlerini oluştur\n",
    "train_dir = \"dataset/train_data\"\n",
    "test_dir = \"dataset/test_data\"\n",
    "os.makedirs(train_dir, exist_ok=True)\n",
    "os.makedirs(test_dir, exist_ok=True)\n",
    "\n",
    "# Veri setindeki sınıflar\n",
    "classes = os.listdir(data_dir)\n",
    "\n",
    "# Train ve test oranı\n",
    "train_ratio = 0.80\n",
    "\n",
    "# Her sınıf için veri setini train ve test olarak ayır\n",
    "for cls in classes:\n",
    "    class_dir = os.path.join(data_dir, cls)\n",
    "    images = os.listdir(class_dir)\n",
    "    random.shuffle(images)\n",
    "    train_size = int(len(images) * train_ratio)\n",
    "    train_images = images[:train_size]\n",
    "    test_images = images[train_size:]\n",
    "\n",
    "    # Train ve test görüntülerini kopyala\n",
    "    for img in train_images:\n",
    "        src = os.path.join(class_dir, img)\n",
    "        dst = os.path.join(train_dir, cls, img)\n",
    "        os.makedirs(os.path.dirname(dst), exist_ok=True)\n",
    "        shutil.copy(src, dst)\n",
    "\n",
    "    for img in test_images:\n",
    "        src = os.path.join(class_dir, img)\n",
    "        dst = os.path.join(test_dir, cls, img)\n",
    "        os.makedirs(os.path.dirname(dst), exist_ok=True)\n",
    "        shutil.copy(src, dst)\n",
    "\n",
    "print(\"Train-test split completed successfully.\")\n"
   ]
  },
  {
   "cell_type": "code",
   "execution_count": null,
   "metadata": {
    "execution": {
     "iopub.execute_input": "2024-04-10T15:19:42.236386Z",
     "iopub.status.busy": "2024-04-10T15:19:42.235745Z",
     "iopub.status.idle": "2024-04-10T15:19:42.242198Z",
     "shell.execute_reply": "2024-04-10T15:19:42.241296Z",
     "shell.execute_reply.started": "2024-04-10T15:19:42.236352Z"
    }
   },
   "outputs": [],
   "source": [
    "os.listdir(my_data_dir)"
   ]
  },
  {
   "cell_type": "code",
   "execution_count": null,
   "metadata": {
    "execution": {
     "iopub.execute_input": "2024-04-10T15:19:42.243906Z",
     "iopub.status.busy": "2024-04-10T15:19:42.243504Z",
     "iopub.status.idle": "2024-04-10T15:19:42.250736Z",
     "shell.execute_reply": "2024-04-10T15:19:42.249771Z",
     "shell.execute_reply.started": "2024-04-10T15:19:42.243881Z"
    }
   },
   "outputs": [],
   "source": [
    "train_path = my_data_dir+'/train_data'\n",
    "test_path = my_data_dir+'/test_data'"
   ]
  },
  {
   "cell_type": "code",
   "execution_count": null,
   "metadata": {
    "execution": {
     "iopub.execute_input": "2024-04-10T15:19:42.252788Z",
     "iopub.status.busy": "2024-04-10T15:19:42.252105Z",
     "iopub.status.idle": "2024-04-10T15:19:42.261022Z",
     "shell.execute_reply": "2024-04-10T15:19:42.260129Z",
     "shell.execute_reply.started": "2024-04-10T15:19:42.252747Z"
    }
   },
   "outputs": [],
   "source": [
    "os.listdir(train_path)"
   ]
  },
  {
   "cell_type": "code",
   "execution_count": null,
   "metadata": {
    "execution": {
     "iopub.execute_input": "2024-04-10T15:19:42.262467Z",
     "iopub.status.busy": "2024-04-10T15:19:42.262182Z",
     "iopub.status.idle": "2024-04-10T15:19:42.270489Z",
     "shell.execute_reply": "2024-04-10T15:19:42.269562Z",
     "shell.execute_reply.started": "2024-04-10T15:19:42.26243Z"
    }
   },
   "outputs": [],
   "source": [
    "len(os.listdir(train_path+'/rose'))"
   ]
  },
  {
   "cell_type": "code",
   "execution_count": null,
   "metadata": {
    "execution": {
     "iopub.execute_input": "2024-04-10T15:19:42.272502Z",
     "iopub.status.busy": "2024-04-10T15:19:42.271798Z",
     "iopub.status.idle": "2024-04-10T15:19:42.279027Z",
     "shell.execute_reply": "2024-04-10T15:19:42.278078Z",
     "shell.execute_reply.started": "2024-04-10T15:19:42.27247Z"
    }
   },
   "outputs": [],
   "source": [
    "len(os.listdir(train_path+'/tulip'))"
   ]
  },
  {
   "cell_type": "code",
   "execution_count": null,
   "metadata": {
    "execution": {
     "iopub.execute_input": "2024-04-10T15:19:42.284339Z",
     "iopub.status.busy": "2024-04-10T15:19:42.283984Z",
     "iopub.status.idle": "2024-04-10T15:19:42.290914Z",
     "shell.execute_reply": "2024-04-10T15:19:42.290001Z",
     "shell.execute_reply.started": "2024-04-10T15:19:42.284309Z"
    }
   },
   "outputs": [],
   "source": [
    "os.listdir(train_path+'/rose')[:10]"
   ]
  },
  {
   "cell_type": "code",
   "execution_count": null,
   "metadata": {
    "execution": {
     "iopub.execute_input": "2024-04-10T15:19:42.29287Z",
     "iopub.status.busy": "2024-04-10T15:19:42.292474Z",
     "iopub.status.idle": "2024-04-10T15:19:42.300009Z",
     "shell.execute_reply": "2024-04-10T15:19:42.299052Z",
     "shell.execute_reply.started": "2024-04-10T15:19:42.292837Z"
    }
   },
   "outputs": [],
   "source": [
    "os.listdir(train_path+'/tulip')[:10]"
   ]
  },
  {
   "cell_type": "code",
   "execution_count": null,
   "metadata": {
    "execution": {
     "iopub.execute_input": "2024-04-10T15:21:03.991557Z",
     "iopub.status.busy": "2024-04-10T15:21:03.990866Z",
     "iopub.status.idle": "2024-04-10T15:21:03.995707Z",
     "shell.execute_reply": "2024-04-10T15:21:03.994871Z",
     "shell.execute_reply.started": "2024-04-10T15:21:03.991525Z"
    }
   },
   "outputs": [],
   "source": [
    "path1=train_path+'/rose'+'/5570018782_c56bee942f.jpg'\n",
    "path2=train_path+'/tulip'+'/16680998737_6f6225fe36.jpg'"
   ]
  },
  {
   "cell_type": "code",
   "execution_count": null,
   "metadata": {
    "execution": {
     "iopub.execute_input": "2024-04-10T15:21:10.580069Z",
     "iopub.status.busy": "2024-04-10T15:21:10.579693Z",
     "iopub.status.idle": "2024-04-10T15:21:10.601179Z",
     "shell.execute_reply": "2024-04-10T15:21:10.600378Z",
     "shell.execute_reply.started": "2024-04-10T15:21:10.580039Z"
    }
   },
   "outputs": [],
   "source": [
    "rose_img=imread(path1)\n",
    "tulip_img=imread(path2)"
   ]
  },
  {
   "cell_type": "code",
   "execution_count": null,
   "metadata": {
    "execution": {
     "iopub.execute_input": "2024-04-10T15:21:10.603219Z",
     "iopub.status.busy": "2024-04-10T15:21:10.602806Z",
     "iopub.status.idle": "2024-04-10T15:21:10.920579Z",
     "shell.execute_reply": "2024-04-10T15:21:10.919628Z",
     "shell.execute_reply.started": "2024-04-10T15:21:10.603181Z"
    }
   },
   "outputs": [],
   "source": [
    "plt.imshow(rose_img);"
   ]
  },
  {
   "cell_type": "code",
   "execution_count": null,
   "metadata": {
    "execution": {
     "iopub.execute_input": "2024-04-10T15:21:10.922494Z",
     "iopub.status.busy": "2024-04-10T15:21:10.922192Z",
     "iopub.status.idle": "2024-04-10T15:21:11.325Z",
     "shell.execute_reply": "2024-04-10T15:21:11.324065Z",
     "shell.execute_reply.started": "2024-04-10T15:21:10.922469Z"
    }
   },
   "outputs": [],
   "source": [
    "plt.imshow(tulip_img);"
   ]
  },
  {
   "cell_type": "markdown",
   "metadata": {},
   "source": [
    "# **Data Augmentation**"
   ]
  },
  {
   "cell_type": "code",
   "execution_count": null,
   "metadata": {
    "execution": {
     "iopub.execute_input": "2024-04-10T15:21:11.326878Z",
     "iopub.status.busy": "2024-04-10T15:21:11.326553Z",
     "iopub.status.idle": "2024-04-10T15:21:11.331745Z",
     "shell.execute_reply": "2024-04-10T15:21:11.330763Z",
     "shell.execute_reply.started": "2024-04-10T15:21:11.326851Z"
    }
   },
   "outputs": [],
   "source": [
    "image_gen = tf.keras.preprocessing.image.ImageDataGenerator(\n",
    "    rotation_range=40,\n",
    "    shear_range=0.2,\n",
    "    zoom_range=0.2,\n",
    "    horizontal_flip=True,\n",
    "    validation_split = 0.3,\n",
    "    rescale = 1/255\n",
    ")"
   ]
  },
  {
   "cell_type": "code",
   "execution_count": null,
   "metadata": {
    "execution": {
     "iopub.execute_input": "2024-04-10T15:21:11.334388Z",
     "iopub.status.busy": "2024-04-10T15:21:11.334062Z",
     "iopub.status.idle": "2024-04-10T15:21:11.343221Z",
     "shell.execute_reply": "2024-04-10T15:21:11.342155Z",
     "shell.execute_reply.started": "2024-04-10T15:21:11.334362Z"
    }
   },
   "outputs": [],
   "source": [
    "batch_size = 32\n",
    "img_height = 256\n",
    "img_width = 256"
   ]
  },
  {
   "cell_type": "code",
   "execution_count": null,
   "metadata": {
    "execution": {
     "iopub.execute_input": "2024-04-10T15:21:11.345249Z",
     "iopub.status.busy": "2024-04-10T15:21:11.344908Z",
     "iopub.status.idle": "2024-04-10T15:21:11.351008Z",
     "shell.execute_reply": "2024-04-10T15:21:11.349995Z",
     "shell.execute_reply.started": "2024-04-10T15:21:11.345214Z"
    }
   },
   "outputs": [],
   "source": [
    "classes = ['daisy', 'rose', 'tulip', 'sunflower', 'dandelion']"
   ]
  },
  {
   "cell_type": "code",
   "execution_count": null,
   "metadata": {
    "execution": {
     "iopub.execute_input": "2024-04-10T15:21:11.352959Z",
     "iopub.status.busy": "2024-04-10T15:21:11.352414Z",
     "iopub.status.idle": "2024-04-10T15:21:11.613039Z",
     "shell.execute_reply": "2024-04-10T15:21:11.612072Z",
     "shell.execute_reply.started": "2024-04-10T15:21:11.352925Z"
    }
   },
   "outputs": [],
   "source": [
    "training_data = image_gen.flow_from_directory(\n",
    "    train_dir,\n",
    "    subset = \"training\",\n",
    "    class_mode=\"categorical\",\n",
    "    target_size = (img_width, img_height),\n",
    "    batch_size = batch_size,\n",
    "    shuffle = False\n",
    ")\n",
    "\n",
    "validation_data = image_gen.flow_from_directory(\n",
    "    train_dir,\n",
    "    subset = \"validation\",\n",
    "    class_mode=\"categorical\",\n",
    "    target_size = (img_width, img_height),\n",
    "    batch_size = batch_size,\n",
    "    shuffle = False\n",
    ")"
   ]
  },
  {
   "cell_type": "code",
   "execution_count": null,
   "metadata": {
    "execution": {
     "iopub.execute_input": "2024-04-10T15:21:11.614404Z",
     "iopub.status.busy": "2024-04-10T15:21:11.614121Z",
     "iopub.status.idle": "2024-04-10T15:21:11.619215Z",
     "shell.execute_reply": "2024-04-10T15:21:11.618207Z",
     "shell.execute_reply.started": "2024-04-10T15:21:11.61438Z"
    }
   },
   "outputs": [],
   "source": [
    "image_shape = (256,256,3)"
   ]
  },
  {
   "cell_type": "markdown",
   "metadata": {},
   "source": [
    "# **CNN Model**"
   ]
  },
  {
   "cell_type": "code",
   "execution_count": null,
   "metadata": {
    "execution": {
     "iopub.execute_input": "2024-04-10T15:21:11.620644Z",
     "iopub.status.busy": "2024-04-10T15:21:11.620362Z",
     "iopub.status.idle": "2024-04-10T15:21:12.813748Z",
     "shell.execute_reply": "2024-04-10T15:21:12.812987Z",
     "shell.execute_reply.started": "2024-04-10T15:21:11.62062Z"
    }
   },
   "outputs": [],
   "source": [
    "model = Sequential()\n",
    "\n",
    "model.add(Conv2D(filters=64, kernel_size=(3,3),input_shape=image_shape, activation='relu',))\n",
    "model.add(MaxPooling2D(pool_size=(2, 2)))\n",
    "model.add(BatchNormalization())\n",
    "\n",
    "model.add(Conv2D(filters=128, kernel_size=(3,3), activation='relu'))\n",
    "model.add(MaxPooling2D(pool_size=(2, 2)))\n",
    "model.add(BatchNormalization())\n",
    "\n",
    "model.add(Conv2D(filters=128, kernel_size=(3,3), activation='relu'))\n",
    "model.add(MaxPooling2D(pool_size=(2, 2)))\n",
    "model.add(BatchNormalization())\n",
    "\n",
    "model.add(Conv2D(filters=128, kernel_size=(3,3), activation='relu'))\n",
    "model.add(MaxPooling2D(pool_size=(2, 2)))\n",
    "model.add(BatchNormalization())\n",
    "          \n",
    "model.add(Conv2D(filters=64, kernel_size=(3,3), activation='relu'))\n",
    "model.add(MaxPooling2D(pool_size=(2, 2)))\n",
    "\n",
    "model.add(Flatten())\n",
    "\n",
    "model.add(Dense(64, activation='relu'))\n",
    "model.add(BatchNormalization())\n",
    "\n",
    "model.add(Dense(5, activation='softmax'))\n",
    "\n",
    "model.compile(loss='categorical_crossentropy',\n",
    "              optimizer='adam',\n",
    "              metrics=['accuracy'])"
   ]
  },
  {
   "cell_type": "code",
   "execution_count": null,
   "metadata": {
    "execution": {
     "iopub.execute_input": "2024-04-10T15:21:12.815606Z",
     "iopub.status.busy": "2024-04-10T15:21:12.814965Z",
     "iopub.status.idle": "2024-04-10T15:21:12.851436Z",
     "shell.execute_reply": "2024-04-10T15:21:12.850625Z",
     "shell.execute_reply.started": "2024-04-10T15:21:12.815573Z"
    }
   },
   "outputs": [],
   "source": [
    "model.summary()"
   ]
  },
  {
   "cell_type": "code",
   "execution_count": null,
   "metadata": {
    "execution": {
     "iopub.execute_input": "2024-04-10T15:21:12.854959Z",
     "iopub.status.busy": "2024-04-10T15:21:12.854666Z",
     "iopub.status.idle": "2024-04-10T15:21:12.859019Z",
     "shell.execute_reply": "2024-04-10T15:21:12.858084Z",
     "shell.execute_reply.started": "2024-04-10T15:21:12.854935Z"
    }
   },
   "outputs": [],
   "source": [
    "early_stop = EarlyStopping(monitor='val_loss',patience=10)"
   ]
  },
  {
   "cell_type": "code",
   "execution_count": null,
   "metadata": {
    "execution": {
     "iopub.execute_input": "2024-04-10T15:21:12.860999Z",
     "iopub.status.busy": "2024-04-10T15:21:12.860299Z",
     "iopub.status.idle": "2024-04-10T15:47:31.991598Z",
     "shell.execute_reply": "2024-04-10T15:47:31.990628Z",
     "shell.execute_reply.started": "2024-04-10T15:21:12.860964Z"
    }
   },
   "outputs": [],
   "source": [
    "results = model.fit(training_data,epochs=50,\n",
    "                    validation_data=validation_data,\n",
    "                    callbacks=[early_stop])"
   ]
  },
  {
   "cell_type": "code",
   "execution_count": null,
   "metadata": {
    "execution": {
     "iopub.execute_input": "2024-04-10T15:47:31.99354Z",
     "iopub.status.busy": "2024-04-10T15:47:31.993107Z",
     "iopub.status.idle": "2024-04-10T15:47:32.013803Z",
     "shell.execute_reply": "2024-04-10T15:47:32.012944Z",
     "shell.execute_reply.started": "2024-04-10T15:47:31.993512Z"
    }
   },
   "outputs": [],
   "source": [
    "summary = pd.DataFrame(model.history.history)\n",
    "summary.head(15)"
   ]
  },
  {
   "cell_type": "code",
   "execution_count": null,
   "metadata": {
    "execution": {
     "iopub.execute_input": "2024-04-10T15:47:32.015214Z",
     "iopub.status.busy": "2024-04-10T15:47:32.014884Z",
     "iopub.status.idle": "2024-04-10T15:47:32.219983Z",
     "shell.execute_reply": "2024-04-10T15:47:32.219061Z",
     "shell.execute_reply.started": "2024-04-10T15:47:32.015189Z"
    }
   },
   "outputs": [],
   "source": [
    "plt.figure(figsize=(10,6))\n",
    "plt.plot(summary.loss, label=\"loss\")\n",
    "plt.plot(summary.val_loss, label=\"val_loss\")\n",
    "plt.legend(loc=\"upper right\")\n",
    "plt.ylabel(\"Loss\")\n",
    "plt.xlabel(\"Epoch\")\n",
    "plt.show()"
   ]
  },
  {
   "cell_type": "code",
   "execution_count": null,
   "metadata": {
    "execution": {
     "iopub.execute_input": "2024-04-10T15:47:32.221461Z",
     "iopub.status.busy": "2024-04-10T15:47:32.22118Z",
     "iopub.status.idle": "2024-04-10T15:47:32.486665Z",
     "shell.execute_reply": "2024-04-10T15:47:32.48578Z",
     "shell.execute_reply.started": "2024-04-10T15:47:32.221437Z"
    }
   },
   "outputs": [],
   "source": [
    "plt.figure(figsize=(10,6))\n",
    "plt.plot(summary.accuracy, label=\"accuracy\")\n",
    "plt.plot(summary.val_accuracy, label=\"val_accuracy\")\n",
    "plt.legend(loc=\"upper left\")\n",
    "plt.ylabel(\"Accuracy\")\n",
    "plt.xlabel(\"Epoch\")\n",
    "plt.show()"
   ]
  },
  {
   "cell_type": "code",
   "execution_count": null,
   "metadata": {
    "execution": {
     "iopub.execute_input": "2024-04-10T15:47:32.488611Z",
     "iopub.status.busy": "2024-04-10T15:47:32.487994Z",
     "iopub.status.idle": "2024-04-10T15:48:12.91537Z",
     "shell.execute_reply": "2024-04-10T15:48:12.914477Z",
     "shell.execute_reply.started": "2024-04-10T15:47:32.488576Z"
    }
   },
   "outputs": [],
   "source": [
    "model.evaluate(training_data)"
   ]
  },
  {
   "cell_type": "code",
   "execution_count": null,
   "metadata": {
    "execution": {
     "iopub.execute_input": "2024-04-10T15:48:12.9167Z",
     "iopub.status.busy": "2024-04-10T15:48:12.916459Z",
     "iopub.status.idle": "2024-04-10T15:48:30.260238Z",
     "shell.execute_reply": "2024-04-10T15:48:30.259348Z",
     "shell.execute_reply.started": "2024-04-10T15:48:12.916678Z"
    }
   },
   "outputs": [],
   "source": [
    "model.evaluate(validation_data)"
   ]
  },
  {
   "cell_type": "code",
   "execution_count": null,
   "metadata": {
    "execution": {
     "iopub.execute_input": "2024-04-10T15:48:30.261963Z",
     "iopub.status.busy": "2024-04-10T15:48:30.261578Z",
     "iopub.status.idle": "2024-04-10T15:48:48.287608Z",
     "shell.execute_reply": "2024-04-10T15:48:48.286561Z",
     "shell.execute_reply.started": "2024-04-10T15:48:30.261929Z"
    }
   },
   "outputs": [],
   "source": [
    "pred_probabilities = model.predict(validation_data)\n",
    "pred_probabilities"
   ]
  },
  {
   "cell_type": "code",
   "execution_count": null,
   "metadata": {
    "execution": {
     "iopub.execute_input": "2024-04-10T15:48:48.289083Z",
     "iopub.status.busy": "2024-04-10T15:48:48.288793Z",
     "iopub.status.idle": "2024-04-10T15:48:48.29582Z",
     "shell.execute_reply": "2024-04-10T15:48:48.294615Z",
     "shell.execute_reply.started": "2024-04-10T15:48:48.289058Z"
    }
   },
   "outputs": [],
   "source": [
    "validation_data.classes[:50]"
   ]
  },
  {
   "cell_type": "code",
   "execution_count": null,
   "metadata": {
    "execution": {
     "iopub.execute_input": "2024-04-10T15:48:48.298063Z",
     "iopub.status.busy": "2024-04-10T15:48:48.297346Z",
     "iopub.status.idle": "2024-04-10T15:48:48.302685Z",
     "shell.execute_reply": "2024-04-10T15:48:48.301769Z",
     "shell.execute_reply.started": "2024-04-10T15:48:48.298023Z"
    }
   },
   "outputs": [],
   "source": [
    "predictions = pred_probabilities > 0.5"
   ]
  },
  {
   "cell_type": "code",
   "execution_count": null,
   "metadata": {
    "execution": {
     "iopub.execute_input": "2024-04-10T15:48:48.304278Z",
     "iopub.status.busy": "2024-04-10T15:48:48.303961Z",
     "iopub.status.idle": "2024-04-10T15:48:48.311158Z",
     "shell.execute_reply": "2024-04-10T15:48:48.310389Z",
     "shell.execute_reply.started": "2024-04-10T15:48:48.304254Z"
    }
   },
   "outputs": [],
   "source": [
    "#print(classification_report(validation_data.classes,predictions))"
   ]
  },
  {
   "cell_type": "markdown",
   "metadata": {},
   "source": [
    "# **ConvNeXtTiny**"
   ]
  },
  {
   "cell_type": "code",
   "execution_count": null,
   "metadata": {
    "execution": {
     "iopub.execute_input": "2024-04-10T15:48:48.31275Z",
     "iopub.status.busy": "2024-04-10T15:48:48.312441Z",
     "iopub.status.idle": "2024-04-10T15:48:50.204011Z",
     "shell.execute_reply": "2024-04-10T15:48:50.203126Z",
     "shell.execute_reply.started": "2024-04-10T15:48:48.3127Z"
    }
   },
   "outputs": [],
   "source": [
    "convex_model = Sequential()\n",
    "\n",
    "pretrained_model= tf.keras.applications.ConvNeXtTiny(include_top=False,\n",
    "                   input_shape=image_shape,\n",
    "                   pooling='avg',\n",
    "                   weights= 'imagenet')\n",
    "for layer in pretrained_model.layers:\n",
    "        layer.trainable=False\n",
    "\n",
    "convex_model.add(pretrained_model)\n",
    "convex_model.add(Flatten())\n",
    "convex_model.add(Dense(512, activation='relu'))\n",
    "convex_model.add(Dense(5, activation='softmax'))\n",
    "convex_model.compile(loss='categorical_crossentropy',\n",
    "              optimizer='adam',\n",
    "              metrics=['accuracy'])\n",
    "\n",
    "convex_model.summary()"
   ]
  },
  {
   "cell_type": "code",
   "execution_count": null,
   "metadata": {
    "execution": {
     "iopub.execute_input": "2024-04-10T15:48:50.205607Z",
     "iopub.status.busy": "2024-04-10T15:48:50.205246Z",
     "iopub.status.idle": "2024-04-10T16:13:19.453933Z",
     "shell.execute_reply": "2024-04-10T16:13:19.453054Z",
     "shell.execute_reply.started": "2024-04-10T15:48:50.205574Z"
    }
   },
   "outputs": [],
   "source": [
    "results = convex_model.fit(training_data,epochs=25,\n",
    "                    validation_data=validation_data,\n",
    "                    callbacks=[early_stop])"
   ]
  },
  {
   "cell_type": "code",
   "execution_count": null,
   "metadata": {
    "execution": {
     "iopub.execute_input": "2024-04-10T16:13:19.455884Z",
     "iopub.status.busy": "2024-04-10T16:13:19.455569Z",
     "iopub.status.idle": "2024-04-10T16:13:19.470334Z",
     "shell.execute_reply": "2024-04-10T16:13:19.469351Z",
     "shell.execute_reply.started": "2024-04-10T16:13:19.455858Z"
    }
   },
   "outputs": [],
   "source": [
    "summary = pd.DataFrame(convex_model.history.history)\n",
    "summary.head(15)"
   ]
  },
  {
   "cell_type": "code",
   "execution_count": null,
   "metadata": {
    "execution": {
     "iopub.execute_input": "2024-04-10T16:13:19.472102Z",
     "iopub.status.busy": "2024-04-10T16:13:19.471802Z",
     "iopub.status.idle": "2024-04-10T16:13:19.691548Z",
     "shell.execute_reply": "2024-04-10T16:13:19.690581Z",
     "shell.execute_reply.started": "2024-04-10T16:13:19.472076Z"
    }
   },
   "outputs": [],
   "source": [
    "plt.figure(figsize=(10,6))\n",
    "plt.plot(summary.loss, label=\"loss\")\n",
    "plt.plot(summary.val_loss, label=\"val_loss\")\n",
    "plt.legend(loc=\"upper right\")\n",
    "plt.ylabel(\"Loss\")\n",
    "plt.xlabel(\"Epoch\")\n",
    "plt.show()"
   ]
  },
  {
   "cell_type": "code",
   "execution_count": null,
   "metadata": {
    "execution": {
     "iopub.execute_input": "2024-04-10T16:13:19.692918Z",
     "iopub.status.busy": "2024-04-10T16:13:19.692633Z",
     "iopub.status.idle": "2024-04-10T16:13:19.907384Z",
     "shell.execute_reply": "2024-04-10T16:13:19.906416Z",
     "shell.execute_reply.started": "2024-04-10T16:13:19.692895Z"
    }
   },
   "outputs": [],
   "source": [
    "plt.figure(figsize=(10,6))\n",
    "plt.plot(summary.accuracy, label=\"accuracy\")\n",
    "plt.plot(summary.val_accuracy, label=\"val_accuracy\")\n",
    "plt.legend(loc=\"upper left\")\n",
    "plt.ylabel(\"Accuracy\")\n",
    "plt.xlabel(\"Epoch\")\n",
    "plt.show()"
   ]
  },
  {
   "cell_type": "code",
   "execution_count": null,
   "metadata": {
    "execution": {
     "iopub.execute_input": "2024-04-10T16:13:19.90898Z",
     "iopub.status.busy": "2024-04-10T16:13:19.908615Z",
     "iopub.status.idle": "2024-04-10T16:14:24.942882Z",
     "shell.execute_reply": "2024-04-10T16:14:24.941795Z",
     "shell.execute_reply.started": "2024-04-10T16:13:19.908954Z"
    }
   },
   "outputs": [],
   "source": [
    "convex_model.evaluate(training_data)\n",
    "convex_model.evaluate(validation_data)"
   ]
  },
  {
   "cell_type": "code",
   "execution_count": null,
   "metadata": {
    "execution": {
     "iopub.execute_input": "2024-04-10T16:14:24.944389Z",
     "iopub.status.busy": "2024-04-10T16:14:24.94408Z",
     "iopub.status.idle": "2024-04-10T16:14:52.716809Z",
     "shell.execute_reply": "2024-04-10T16:14:52.715651Z",
     "shell.execute_reply.started": "2024-04-10T16:14:24.944362Z"
    }
   },
   "outputs": [],
   "source": [
    "pred_probabilities = convex_model.predict(validation_data)\n",
    "pred_probabilities"
   ]
  },
  {
   "cell_type": "code",
   "execution_count": null,
   "metadata": {
    "execution": {
     "iopub.execute_input": "2024-04-10T16:14:52.727992Z",
     "iopub.status.busy": "2024-04-10T16:14:52.727623Z",
     "iopub.status.idle": "2024-04-10T16:14:52.735041Z",
     "shell.execute_reply": "2024-04-10T16:14:52.734047Z",
     "shell.execute_reply.started": "2024-04-10T16:14:52.727962Z"
    }
   },
   "outputs": [],
   "source": [
    "validation_data.classes[:50]"
   ]
  },
  {
   "cell_type": "code",
   "execution_count": null,
   "metadata": {
    "execution": {
     "iopub.execute_input": "2024-04-10T16:14:52.736552Z",
     "iopub.status.busy": "2024-04-10T16:14:52.736234Z",
     "iopub.status.idle": "2024-04-10T16:14:52.746595Z",
     "shell.execute_reply": "2024-04-10T16:14:52.745639Z",
     "shell.execute_reply.started": "2024-04-10T16:14:52.736525Z"
    }
   },
   "outputs": [],
   "source": [
    "predictions = pred_probabilities > 0.5"
   ]
  },
  {
   "cell_type": "code",
   "execution_count": null,
   "metadata": {
    "execution": {
     "iopub.execute_input": "2024-04-10T16:14:52.748331Z",
     "iopub.status.busy": "2024-04-10T16:14:52.747949Z",
     "iopub.status.idle": "2024-04-10T16:14:52.757809Z",
     "shell.execute_reply": "2024-04-10T16:14:52.756665Z",
     "shell.execute_reply.started": "2024-04-10T16:14:52.748288Z"
    }
   },
   "outputs": [],
   "source": [
    "validation_data.classes"
   ]
  },
  {
   "cell_type": "code",
   "execution_count": null,
   "metadata": {
    "execution": {
     "iopub.execute_input": "2024-04-10T16:14:52.759631Z",
     "iopub.status.busy": "2024-04-10T16:14:52.759289Z",
     "iopub.status.idle": "2024-04-10T16:14:52.765026Z",
     "shell.execute_reply": "2024-04-10T16:14:52.763927Z",
     "shell.execute_reply.started": "2024-04-10T16:14:52.759604Z"
    }
   },
   "outputs": [],
   "source": [
    "#print(classification_report(validation_data.classes,predictions))"
   ]
  },
  {
   "cell_type": "markdown",
   "metadata": {},
   "source": [
    "# **Xception Model**"
   ]
  },
  {
   "cell_type": "code",
   "execution_count": null,
   "metadata": {
    "execution": {
     "iopub.execute_input": "2024-04-10T16:14:52.766614Z",
     "iopub.status.busy": "2024-04-10T16:14:52.766257Z",
     "iopub.status.idle": "2024-04-10T16:14:54.679742Z",
     "shell.execute_reply": "2024-04-10T16:14:54.678744Z",
     "shell.execute_reply.started": "2024-04-10T16:14:52.76658Z"
    }
   },
   "outputs": [],
   "source": [
    "xception_model = Sequential()\n",
    "\n",
    "pretrained_model= tf.keras.applications.Xception(include_top=False,\n",
    "                   input_shape=image_shape,\n",
    "                   pooling='avg',\n",
    "                   weights= 'imagenet')\n",
    "for layer in pretrained_model.layers:\n",
    "        layer.trainable=False\n",
    "\n",
    "xception_model.add(pretrained_model)\n",
    "xception_model.add(Flatten())\n",
    "xception_model.add(Dense(512, activation='relu'))\n",
    "xception_model.add(Dense(5, activation='softmax'))\n",
    "xception_model.compile(loss='categorical_crossentropy',\n",
    "              optimizer='adam',\n",
    "              metrics=['accuracy'])\n",
    "\n",
    "xception_model.summary()"
   ]
  },
  {
   "cell_type": "code",
   "execution_count": null,
   "metadata": {
    "execution": {
     "iopub.execute_input": "2024-04-10T16:14:54.681161Z",
     "iopub.status.busy": "2024-04-10T16:14:54.680863Z",
     "iopub.status.idle": "2024-04-10T16:14:54.685428Z",
     "shell.execute_reply": "2024-04-10T16:14:54.684448Z",
     "shell.execute_reply.started": "2024-04-10T16:14:54.681135Z"
    }
   },
   "outputs": [],
   "source": [
    "early_stop = EarlyStopping(monitor='val_loss',patience=10)"
   ]
  },
  {
   "cell_type": "code",
   "execution_count": null,
   "metadata": {
    "execution": {
     "iopub.execute_input": "2024-04-10T16:14:54.687028Z",
     "iopub.status.busy": "2024-04-10T16:14:54.686699Z",
     "iopub.status.idle": "2024-04-10T16:35:49.633589Z",
     "shell.execute_reply": "2024-04-10T16:35:49.632683Z",
     "shell.execute_reply.started": "2024-04-10T16:14:54.687001Z"
    }
   },
   "outputs": [],
   "source": [
    "results = xception_model.fit(training_data,epochs=25,\n",
    "                    validation_data=validation_data,\n",
    "                    callbacks=[early_stop])"
   ]
  },
  {
   "cell_type": "code",
   "execution_count": null,
   "metadata": {
    "execution": {
     "iopub.execute_input": "2024-04-10T16:35:49.63525Z",
     "iopub.status.busy": "2024-04-10T16:35:49.634966Z",
     "iopub.status.idle": "2024-04-10T16:35:49.650686Z",
     "shell.execute_reply": "2024-04-10T16:35:49.649584Z",
     "shell.execute_reply.started": "2024-04-10T16:35:49.635225Z"
    }
   },
   "outputs": [],
   "source": [
    "summary = pd.DataFrame(xception_model.history.history)\n",
    "summary.head(15)"
   ]
  },
  {
   "cell_type": "code",
   "execution_count": null,
   "metadata": {
    "execution": {
     "iopub.execute_input": "2024-04-10T16:35:49.652901Z",
     "iopub.status.busy": "2024-04-10T16:35:49.652081Z",
     "iopub.status.idle": "2024-04-10T16:35:49.89063Z",
     "shell.execute_reply": "2024-04-10T16:35:49.889731Z",
     "shell.execute_reply.started": "2024-04-10T16:35:49.652867Z"
    }
   },
   "outputs": [],
   "source": [
    "plt.figure(figsize=(10,6))\n",
    "plt.plot(summary.loss, label=\"loss\")\n",
    "plt.plot(summary.val_loss, label=\"val_loss\")\n",
    "plt.legend(loc=\"upper right\")\n",
    "plt.ylabel(\"Loss\")\n",
    "plt.xlabel(\"Epoch\")\n",
    "plt.show()"
   ]
  },
  {
   "cell_type": "code",
   "execution_count": null,
   "metadata": {
    "execution": {
     "iopub.execute_input": "2024-04-10T16:35:49.892069Z",
     "iopub.status.busy": "2024-04-10T16:35:49.891785Z",
     "iopub.status.idle": "2024-04-10T16:35:50.129249Z",
     "shell.execute_reply": "2024-04-10T16:35:50.128248Z",
     "shell.execute_reply.started": "2024-04-10T16:35:49.892045Z"
    }
   },
   "outputs": [],
   "source": [
    "plt.figure(figsize=(10,6))\n",
    "plt.plot(summary.accuracy, label=\"accuracy\")\n",
    "plt.plot(summary.val_accuracy, label=\"val_accuracy\")\n",
    "plt.legend(loc=\"upper left\")\n",
    "plt.ylabel(\"Accuracy\")\n",
    "plt.xlabel(\"Epoch\")\n",
    "plt.show()"
   ]
  },
  {
   "cell_type": "code",
   "execution_count": null,
   "metadata": {
    "execution": {
     "iopub.execute_input": "2024-04-10T16:35:50.130685Z",
     "iopub.status.busy": "2024-04-10T16:35:50.130399Z",
     "iopub.status.idle": "2024-04-10T16:36:33.3847Z",
     "shell.execute_reply": "2024-04-10T16:36:33.383767Z",
     "shell.execute_reply.started": "2024-04-10T16:35:50.130659Z"
    }
   },
   "outputs": [],
   "source": [
    "xception_model.evaluate(training_data)"
   ]
  },
  {
   "cell_type": "code",
   "execution_count": null,
   "metadata": {
    "execution": {
     "iopub.execute_input": "2024-04-10T16:36:33.387023Z",
     "iopub.status.busy": "2024-04-10T16:36:33.386025Z",
     "iopub.status.idle": "2024-04-10T16:36:51.476572Z",
     "shell.execute_reply": "2024-04-10T16:36:51.475667Z",
     "shell.execute_reply.started": "2024-04-10T16:36:33.386988Z"
    }
   },
   "outputs": [],
   "source": [
    "xception_model.evaluate(validation_data)"
   ]
  },
  {
   "cell_type": "code",
   "execution_count": null,
   "metadata": {
    "execution": {
     "iopub.execute_input": "2024-04-10T16:36:51.47876Z",
     "iopub.status.busy": "2024-04-10T16:36:51.478071Z",
     "iopub.status.idle": "2024-04-10T16:37:15.055937Z",
     "shell.execute_reply": "2024-04-10T16:37:15.05488Z",
     "shell.execute_reply.started": "2024-04-10T16:36:51.478705Z"
    }
   },
   "outputs": [],
   "source": [
    "pred_probabilities = xception_model.predict(validation_data)\n",
    "pred_probabilities"
   ]
  },
  {
   "cell_type": "code",
   "execution_count": null,
   "metadata": {
    "execution": {
     "iopub.execute_input": "2024-04-10T16:37:15.057502Z",
     "iopub.status.busy": "2024-04-10T16:37:15.057213Z",
     "iopub.status.idle": "2024-04-10T16:37:15.064314Z",
     "shell.execute_reply": "2024-04-10T16:37:15.063291Z",
     "shell.execute_reply.started": "2024-04-10T16:37:15.057477Z"
    }
   },
   "outputs": [],
   "source": [
    "validation_data.classes[:50]"
   ]
  },
  {
   "cell_type": "code",
   "execution_count": null,
   "metadata": {
    "execution": {
     "iopub.execute_input": "2024-04-10T16:37:15.065938Z",
     "iopub.status.busy": "2024-04-10T16:37:15.065616Z",
     "iopub.status.idle": "2024-04-10T16:37:15.072017Z",
     "shell.execute_reply": "2024-04-10T16:37:15.07112Z",
     "shell.execute_reply.started": "2024-04-10T16:37:15.065911Z"
    }
   },
   "outputs": [],
   "source": [
    "predictions = pred_probabilities > 0.5"
   ]
  },
  {
   "cell_type": "code",
   "execution_count": null,
   "metadata": {
    "execution": {
     "iopub.execute_input": "2024-04-10T16:37:15.07347Z",
     "iopub.status.busy": "2024-04-10T16:37:15.07318Z",
     "iopub.status.idle": "2024-04-10T16:37:15.080265Z",
     "shell.execute_reply": "2024-04-10T16:37:15.079427Z",
     "shell.execute_reply.started": "2024-04-10T16:37:15.073445Z"
    }
   },
   "outputs": [],
   "source": [
    "from sklearn.metrics import classification_report\n",
    "#print(classification_report(validation_data.classes,predictions))"
   ]
  }
 ],
 "metadata": {
  "kaggle": {
   "accelerator": "nvidiaTeslaT4",
   "dataSources": [
    {
     "datasetId": 8782,
     "sourceId": 2431805,
     "sourceType": "datasetVersion"
    }
   ],
   "dockerImageVersionId": 30674,
   "isGpuEnabled": true,
   "isInternetEnabled": true,
   "language": "python",
   "sourceType": "notebook"
  },
  "kernelspec": {
   "display_name": "Python 3 (ipykernel)",
   "language": "python",
   "name": "python3"
  },
  "language_info": {
   "codemirror_mode": {
    "name": "ipython",
    "version": 3
   },
   "file_extension": ".py",
   "mimetype": "text/x-python",
   "name": "python",
   "nbconvert_exporter": "python",
   "pygments_lexer": "ipython3",
   "version": "3.11.4"
  }
 },
 "nbformat": 4,
 "nbformat_minor": 4
}
