{
 "cells": [
  {
   "cell_type": "code",
   "execution_count": 1,
   "id": "ba467108",
   "metadata": {},
   "outputs": [],
   "source": [
    "import numpy as np\n",
    "import pandas as pd\n",
    "import matplotlib.pyplot as plt\n",
    "from matplotlib.image import imread\n",
    "import os\n",
    "import random\n",
    "import PIL\n",
    "from keras.utils import to_categorical\n",
    "import tensorflow as tf\n",
    "from tensorflow.keras.layers import Activation, Dense, Flatten, Input, Conv2D, MaxPooling2D, Dropout, BatchNormalization\n",
    "from tensorflow.keras.models import Model\n",
    "from tensorflow.keras.models import Sequential\n",
    "from tensorflow.keras.callbacks import EarlyStopping\n",
    "from tensorflow.keras.applications.resnet import ResNet152, preprocess_input, decode_predictions, ResNet50\n",
    "from sklearn.metrics import classification_report, confusion_matrix, roc_auc_score, roc_curve\n",
    "from tensorflow.keras.utils import plot_model\n",
    "from tensorflow.keras.preprocessing.image import img_to_array, load_img, array_to_img\n",
    "import seaborn as sns\n",
    "from matplotlib.image import imread\n",
    "import matplotlib.pyplot as plt\n",
    "import numpy as np"
   ]
  },
  {
   "cell_type": "code",
   "execution_count": 2,
   "id": "c4d7e575",
   "metadata": {},
   "outputs": [],
   "source": [
    "root=\"Dataset\"\n",
    "classes=os.listdir(root)"
   ]
  },
  {
   "cell_type": "code",
   "execution_count": 108,
   "id": "6a9706d0",
   "metadata": {
    "collapsed": true
   },
   "outputs": [
    {
     "name": "stdout",
     "output_type": "stream",
     "text": [
      "Dataset\\eight \n",
      "\n",
      "\n",
      "['download (11).jpg', 'download (12).jpg', 'download (13).jpg', 'download (14).jpg', 'download (15).jpg', 'download (16).jpg', 'download (6).png', 'download (7).png', 'download (8).png', 'Handwritten-1-30-Spelled-out-Numbers-by-sayapperisai-7-580x386.jpg', 'images (1).png', 'images (2).png', 'images (3).png', 'images (4).png', 'images (5).jpg', 'Screenshot_20221123-161316~2.png'] \n",
      "\n",
      "\n",
      "Dataset\\eighteen \n",
      "\n",
      "\n",
      "['download (1).jpg', 'download (1).png', 'download (2).jpg', 'download (2).png', 'download (3).png', 'download (4).jpg', 'download (4).png', 'download (5).png', 'download.jpg', 'download.png', 'images (1).jpg', 'images (1).png', 'images (2).jpg', 'images (2).png', 'images (3).jpg', 'images (3).png', 'images (4).jpg', 'images (4).png', 'images (5).png', 'images (6).png', 'images (7).png', 'images (8).png', 'images.jpg', 'images.png'] \n",
      "\n",
      "\n",
      "Dataset\\eleven \n",
      "\n",
      "\n",
      "['download (1).png', 'download (2).jpg', 'download (2).png', 'download (3).jpg', 'download (3).png', 'download (4).jpg', 'download (4).png', 'download (5).jpg', 'download (5).png', 'download (6).jpg', 'download (7).jpg', 'Handwritten-1-30-Spelled-out-Numbers-by-sayapperisai-10-580x386.jpg', 'images (1).jpg', 'images (2).jpg', 'images.jpg', 'images.png'] \n",
      "\n",
      "\n",
      "Dataset\\fifteen \n",
      "\n",
      "\n",
      "['download (1).jpg', 'download (1).png', 'download (2).jpg', 'download (2).png', 'download (3).jpg', 'download (4).jpg', 'download (5).jpg', 'download (6).jpg', 'download (7).jpg', 'download.jpg', 'download.png', 'Handwritten-1-30-Spelled-out-Numbers-by-sayapperisai-14-580x386.jpg', 'images (1).jpg', 'images (1).png', 'images (2).jpg', 'images (2).png', 'images (3).jpg', 'images (4).jpg', 'images.jpg', 'images.png'] \n",
      "\n",
      "\n",
      "Dataset\\five \n",
      "\n",
      "\n",
      "['download (1).jpg', 'download (10).png', 'download (7).jpg', 'download (8).jpg', 'download (8).png', 'download (9).png', 'download.jpg', 'download.png', 'Handwritten-1-30-Spelled-out-Numbers-by-sayapperisai-4-580x386.jpg', 'images (4).jpg'] \n",
      "\n",
      "\n",
      "Dataset\\four \n",
      "\n",
      "\n",
      "['download (4).png', 'download (5).jpg', 'download (5).png', 'download (6).jpg', 'download (6).png', 'download (7).png', 'Handwritten-1-30-Spelled-out-Numbers-by-sayapperisai-3-580x386.jpg', 'images (1).jpg', 'images (2).jpg', 'images (3).jpg', 'images (3).png'] \n",
      "\n",
      "\n",
      "Dataset\\fourteen \n",
      "\n",
      "\n",
      "['download (1).jpg', 'download (3).png', 'download.jpg', 'download.png', 'Handwritten-1-30-Spelled-out-Numbers-by-sayapperisai-13-580x386.jpg', 'images (1).jpg', 'images (1).png', 'images (2).jpg', 'images (2).png', 'images (3).png', 'images (4).png', 'images (5).png', 'images (6).png', 'images.jpg', 'images.png'] \n",
      "\n",
      "\n",
      "Dataset\\nine \n",
      "\n",
      "\n",
      "['download (10).png', 'download (11).png', 'download (17).jpg', 'download (18).jpg', 'download (19).jpg', 'download (20).jpg', 'download (21).jpg', 'download (22).jpg', 'download (9).png', 'Handwritten-1-30-Spelled-out-Numbers-by-sayapperisai-8-580x386.jpg', 'images (10).png', 'images (11).png', 'images (12).png', 'images (5).png', 'images (6).jpg', 'images (6).png', 'images (7).jpg', 'images (7).png', 'images (8).jpg', 'images (8).png', 'images (9).jpg', 'images (9).png'] \n",
      "\n",
      "\n",
      "Dataset\\ninteen \n",
      "\n",
      "\n",
      "['download (1).jpg', 'download (2).jpg', 'download (3).jpg', 'download (4).jpg', 'download (5).jpg', 'download.jpg', 'download.png', 'images (1).jpg', 'images (1).png', 'images (2).jpg', 'images (2).png', 'images (3).jpg', 'images (3).png', 'images (4).jpg', 'images (4).png', 'images (5).jpg', 'images (5).png', 'images (6).jpg', 'images (7).jpg', 'images.jpg', 'images.png'] \n",
      "\n",
      "\n",
      "Dataset\\one \n",
      "\n",
      "\n",
      "['123d5c2ade45dc3be2a58697b04be0ee.jpg', '41sXsXkNY4L._AC_UF1000,1000_QL80_.jpg', 'banner-with-word-One.png', 'Handwritten-1-30-Spelled-out-Numbers-by-sayapperisai-580x386.jpg', 'images (5).jpg', 'images.png', 'one-logo-913-5538.png', 'One_TV_Asia_logo_(2020).png', 'original-4974681-1.jpg', 'unnamed.png'] \n",
      "\n",
      "\n",
      "Dataset\\seven \n",
      "\n",
      "\n",
      "['download (1).png', 'download (10).jpg', 'download (2).png', 'download (3).png', 'download (4).png', 'download (5).jpg', 'download (5).png', 'download (6).jpg', 'download (7).jpg', 'download (8).jpg', 'download (9).jpg', 'Handwritten-1-30-Spelled-out-Numbers-by-sayapperisai-6-580x386.jpg', 'images (2).jpg', 'images (3).jpg', 'images (4).jpg', 'images (8).jpg', 'images.png'] \n",
      "\n",
      "\n",
      "Dataset\\seventeen \n",
      "\n",
      "\n",
      "['1.jpg', 'download (1).jpg', 'download (1).png', 'download (2).jpg', 'download (3).jpg', 'download.jpg', 'download.png', 'images (1).jpg', 'images (1).png', 'images (2).jpg', 'images (2).png', 'images (3).jpg', 'images (3).png', 'images (4).jpg', 'images (4).png', 'images (5).jpg', 'images (5).png', 'images (6).jpg', 'images (6).png', 'images.jpg', 'images.png'] \n",
      "\n",
      "\n",
      "Dataset\\six \n",
      "\n",
      "\n",
      "['download (1).jpg', 'download (2).jpg', 'download (3).jpg', 'download (4).jpg', 'download.jpg', 'download.png', 'Handwritten-1-30-Spelled-out-Numbers-by-sayapperisai-5-580x386.jpg', 'il_570xN.3272966802_hmu3.webp', 'images (1).jpg', 'images (10).jpg', 'six-phrase-hand-drawn-lettering-260nw-449910856.webp', 'six-text-design-vector-calligraphy-260nw-618500576.webp'] \n",
      "\n",
      "\n",
      "Dataset\\sixteen \n",
      "\n",
      "\n",
      "['download (1).jpg', 'download (2).jpg', 'download (3).png', 'download.jpg', 'download.png', 'images (1).jpg', 'images (1).png', 'images (2).jpg', 'images (2).png', 'images (3).jpg', 'images (3).png', 'images (4).jpg', 'images (4).png', 'images (5).jpg', 'images (5).png', 'images (6).jpg', 'images (6).png', 'images (7).jpg', 'images (7).png', 'images (9).jpg', 'images.jpg', 'images.png'] \n",
      "\n",
      "\n",
      "Dataset\\ten \n",
      "\n",
      "\n",
      "['download (12).png', 'download (13).png', 'download (14).png', 'download (23).jpg', 'download (24).jpg', 'download (25).jpg', 'download (26).jpg', 'Handwritten-1-30-Spelled-out-Numbers-by-sayapperisai-9-580x386.jpg', 'images (10).jpg', 'images (11).jpg', 'images (12).jpg', 'images (13).jpg', 'images (13).png', 'images (14).png'] \n",
      "\n",
      "\n",
      "Dataset\\thirteen \n",
      "\n",
      "\n",
      "['download (1).jpg', 'download (1).png', 'download (2).jpg', 'download (2).png', 'download (3).jpg', 'download (4).jpg', 'download (5).jpg', 'download (6).jpg', 'download (7).jpg', 'download (8).jpg', 'download.jpg', 'download.png', 'Handwritten-1-30-Spelled-out-Numbers-by-sayapperisai-12-580x386.jpg', 'images (1).jpg', 'images (1).png', 'images (2).png', 'images (3).png', 'images.jpg', 'images.png'] \n",
      "\n",
      "\n",
      "Dataset\\three \n",
      "\n",
      "\n",
      "['256689f8668ad1f2992eaba11fffeaae.jpg', 'download (1).png', 'download (2).jpg', 'download (2).png', 'download (3).jpg', 'download (3).png', 'download (4).jpg', 'download.png', 'Handwritten-1-30-Spelled-out-Numbers-by-sayapperisai-2-580x386.jpg', 'images (4).png'] \n",
      "\n",
      "\n",
      "Dataset\\twelve \n",
      "\n",
      "\n",
      "['download (1).jpg', 'download (1).png', 'download (2).jpg', 'download (2).png', 'download (3).jpg', 'download (3).png', 'download.jpg', 'download.png', 'Handwritten-1-30-Spelled-out-Numbers-by-sayapperisai-11-580x386.jpg', 'images (1).jpg', 'images (1).png', 'images (2).jpg', 'images (2).png', 'images (3).jpg', 'images (3).png', 'images (4).png', 'images (5).png', 'images (6).png', 'images.jpg', 'images.png'] \n",
      "\n",
      "\n",
      "Dataset\\twenty \n",
      "\n",
      "\n",
      "['download (1).jpg', 'download (1).png', 'download (2).jpg', 'download (3).jpg', 'download (6).jpg', 'download.jpg', 'download.png', 'images (1).jpg', 'images (1).png', 'images (2).jpg', 'images (2).png', 'images (3).jpg', 'images (3).png', 'images (4).jpg', 'images (4).png', 'images (5).jpg', 'images (5).png', 'images (6).jpg', 'images (6).png', 'images (7).jpg', 'images (7).png', 'images (8).png', 'images (9).png', 'images.jpg', 'images.png'] \n",
      "\n",
      "\n",
      "Dataset\\two \n",
      "\n",
      "\n",
      "['download (1).jpg', 'download.jpg', 'Handwritten-1-30-Spelled-out-Numbers-by-sayapperisai-1-580x386.jpg', 'il_340x270.3592215263_rwoo.webp', 'images (1).png', 'images (2).png', 'images (5).jpg', 'images.jpg', 'two-tile_0.jpg', 'Word-Two.gif'] \n",
      "\n",
      "\n"
     ]
    }
   ],
   "source": [
    "# data=[]\n",
    "# for cls in classes:\n",
    "#     class_dir=os.path.join(root,cls)\n",
    "#     print(class_dir,\"\\n\\n\")\n",
    "#     images=os.listdir(class_dir)\n",
    "#     print(images,\"\\n\\n\")\n",
    "#     for image in images:\n",
    "#         path=os.path.join(class_dir,image)\n",
    "#         data.append(path)"
   ]
  },
  {
   "cell_type": "code",
   "execution_count": 65,
   "id": "43b4e6d4",
   "metadata": {},
   "outputs": [],
   "source": [
    "# data\n",
    "# train_ratio=0.8\n",
    "# train_size = int(len(data) * train_ratio)"
   ]
  },
  {
   "cell_type": "code",
   "execution_count": 62,
   "id": "637f8dcf",
   "metadata": {},
   "outputs": [],
   "source": [
    "# random.shuffle(data)"
   ]
  },
  {
   "cell_type": "code",
   "execution_count": 67,
   "id": "f234d585",
   "metadata": {},
   "outputs": [],
   "source": [
    "# train=data[:train_size]\n",
    "# test=data[train_size:]"
   ]
  },
  {
   "cell_type": "code",
   "execution_count": 68,
   "id": "4b800fc4",
   "metadata": {},
   "outputs": [
    {
     "data": {
      "text/plain": [
       "(268, 67)"
      ]
     },
     "execution_count": 68,
     "metadata": {},
     "output_type": "execute_result"
    }
   ],
   "source": [
    "# len(train),len(test)"
   ]
  },
  {
   "cell_type": "code",
   "execution_count": 93,
   "id": "c26090a5",
   "metadata": {},
   "outputs": [
    {
     "name": "stdout",
     "output_type": "stream",
     "text": [
      "nine\n"
     ]
    },
    {
     "data": {
      "image/png": "[encoded data removed]",
      "text/plain": [
       "<Figure size 640x480 with 1 Axes>"
      ]
     },
     "metadata": {},
     "output_type": "display_data"
    }
   ],
   "source": [
    "img=data[0][0]\n",
    "plt.imshow(img)\n",
    "print(data[0][1])"
   ]
  },
  {
   "cell_type": "code",
   "execution_count": 84,
   "id": "fdfb259a",
   "metadata": {},
   "outputs": [
    {
     "ename": "IndexError",
     "evalue": "list index out of range",
     "output_type": "error",
     "traceback": [
      "\u001b[1;31m---------------------------------------------------------------------------\u001b[0m",
      "\u001b[1;31mIndexError\u001b[0m                                Traceback (most recent call last)",
      "Cell \u001b[1;32mIn[84], line 1\u001b[0m\n\u001b[1;32m----> 1\u001b[0m img\u001b[38;5;241m=\u001b[39mimread(\u001b[43mdata\u001b[49m\u001b[43m[\u001b[49m\u001b[38;5;241;43m0\u001b[39;49m\u001b[43m]\u001b[49m\u001b[43m[\u001b[49m\u001b[38;5;241;43m2\u001b[39;49m\u001b[43m]\u001b[49m)\n\u001b[0;32m      2\u001b[0m plt\u001b[38;5;241m.\u001b[39mimshow(img)\n",
      "\u001b[1;31mIndexError\u001b[0m: list index out of range"
     ]
    }
   ],
   "source": [
    "img=imread(data[0][2])\n",
    "plt.imshow(img)"
   ]
  },
  {
   "cell_type": "code",
   "execution_count": 77,
   "id": "8d616d4d",
   "metadata": {},
   "outputs": [
    {
     "data": {
      "text/plain": [
       "<matplotlib.image.AxesImage at 0x27e6276c890>"
      ]
     },
     "execution_count": 77,
     "metadata": {},
     "output_type": "execute_result"
    },
    {
     "data": {
      "image/png": "[encoded data removed]",
      "text/plain": [
       "<Figure size 640x480 with 1 Axes>"
      ]
     },
     "metadata": {},
     "output_type": "display_data"
    }
   ],
   "source": [
    "img=imread(train[9])\n",
    "plt.imshow(img)"
   ]
  },
  {
   "cell_type": "code",
   "execution_count": 16,
   "id": "8795b4c6",
   "metadata": {},
   "outputs": [],
   "source": [
    "import cv2\n",
    "data=[]\n",
    "for cls in classes:\n",
    "    class_dir=os.path.join(root,cls)\n",
    "    images=os.listdir(class_dir)\n",
    "    for image in images:\n",
    "        path=os.path.join(class_dir,image)\n",
    "        img=cv2.imread(path)\n",
    "#         print(img,\"\\n\\n\")\n",
    "        try:\n",
    "            resized_img=cv2.resize(img,(256,256))\n",
    "            data.append([resized_img,cls])\n",
    "        except:\n",
    "            pass"
   ]
  },
  {
   "cell_type": "code",
   "execution_count": 4,
   "id": "90e49580",
   "metadata": {},
   "outputs": [],
   "source": [
    "random.shuffle(data)"
   ]
  },
  {
   "cell_type": "code",
   "execution_count": 17,
   "id": "4ae9af60",
   "metadata": {},
   "outputs": [],
   "source": [
    "X =[]\n",
    "y =[]\n",
    "for features, label in data:    \n",
    "    X.append(features)\n",
    "    y.append(label)\n",
    "X = np.array(X).reshape(-1, 256, 256, 3)"
   ]
  },
  {
   "cell_type": "code",
   "execution_count": 18,
   "id": "1575f092",
   "metadata": {},
   "outputs": [
    {
     "data": {
      "text/plain": [
       "['eight',\n",
       " 'eight',\n",
       " 'eight',\n",
       " 'eight',\n",
       " 'eight',\n",
       " 'eight',\n",
       " 'eight',\n",
       " 'eight',\n",
       " 'eight',\n",
       " 'eight',\n",
       " 'eight',\n",
       " 'eight',\n",
       " 'eight',\n",
       " 'eight',\n",
       " 'eight',\n",
       " 'eight',\n",
       " 'eighteen',\n",
       " 'eighteen',\n",
       " 'eighteen',\n",
       " 'eighteen',\n",
       " 'eighteen',\n",
       " 'eighteen',\n",
       " 'eighteen',\n",
       " 'eighteen',\n",
       " 'eighteen',\n",
       " 'eighteen',\n",
       " 'eighteen',\n",
       " 'eighteen',\n",
       " 'eighteen',\n",
       " 'eighteen',\n",
       " 'eighteen',\n",
       " 'eighteen',\n",
       " 'eighteen',\n",
       " 'eighteen',\n",
       " 'eighteen',\n",
       " 'eighteen',\n",
       " 'eighteen',\n",
       " 'eighteen',\n",
       " 'eighteen',\n",
       " 'eighteen',\n",
       " 'eleven',\n",
       " 'eleven',\n",
       " 'eleven',\n",
       " 'eleven',\n",
       " 'eleven',\n",
       " 'eleven',\n",
       " 'eleven',\n",
       " 'eleven',\n",
       " 'eleven',\n",
       " 'eleven',\n",
       " 'eleven',\n",
       " 'eleven',\n",
       " 'eleven',\n",
       " 'eleven',\n",
       " 'eleven',\n",
       " 'eleven',\n",
       " 'fifteen',\n",
       " 'fifteen',\n",
       " 'fifteen',\n",
       " 'fifteen',\n",
       " 'fifteen',\n",
       " 'fifteen',\n",
       " 'fifteen',\n",
       " 'fifteen',\n",
       " 'fifteen',\n",
       " 'fifteen',\n",
       " 'fifteen',\n",
       " 'fifteen',\n",
       " 'fifteen',\n",
       " 'fifteen',\n",
       " 'fifteen',\n",
       " 'fifteen',\n",
       " 'fifteen',\n",
       " 'fifteen',\n",
       " 'fifteen',\n",
       " 'fifteen',\n",
       " 'five',\n",
       " 'five',\n",
       " 'five',\n",
       " 'five',\n",
       " 'five',\n",
       " 'five',\n",
       " 'five',\n",
       " 'five',\n",
       " 'five',\n",
       " 'five',\n",
       " 'four',\n",
       " 'four',\n",
       " 'four',\n",
       " 'four',\n",
       " 'four',\n",
       " 'four',\n",
       " 'four',\n",
       " 'four',\n",
       " 'four',\n",
       " 'four',\n",
       " 'four',\n",
       " 'fourteen',\n",
       " 'fourteen',\n",
       " 'fourteen',\n",
       " 'fourteen',\n",
       " 'fourteen',\n",
       " 'fourteen',\n",
       " 'fourteen',\n",
       " 'fourteen',\n",
       " 'fourteen',\n",
       " 'fourteen',\n",
       " 'fourteen',\n",
       " 'fourteen',\n",
       " 'fourteen',\n",
       " 'fourteen',\n",
       " 'fourteen',\n",
       " 'nine',\n",
       " 'nine',\n",
       " 'nine',\n",
       " 'nine',\n",
       " 'nine',\n",
       " 'nine',\n",
       " 'nine',\n",
       " 'nine',\n",
       " 'nine',\n",
       " 'nine',\n",
       " 'nine',\n",
       " 'nine',\n",
       " 'nine',\n",
       " 'nine',\n",
       " 'nine',\n",
       " 'nine',\n",
       " 'nine',\n",
       " 'nine',\n",
       " 'nine',\n",
       " 'nine',\n",
       " 'nine',\n",
       " 'nine',\n",
       " 'ninteen',\n",
       " 'ninteen',\n",
       " 'ninteen',\n",
       " 'ninteen',\n",
       " 'ninteen',\n",
       " 'ninteen',\n",
       " 'ninteen',\n",
       " 'ninteen',\n",
       " 'ninteen',\n",
       " 'ninteen',\n",
       " 'ninteen',\n",
       " 'ninteen',\n",
       " 'ninteen',\n",
       " 'ninteen',\n",
       " 'ninteen',\n",
       " 'ninteen',\n",
       " 'ninteen',\n",
       " 'ninteen',\n",
       " 'ninteen',\n",
       " 'ninteen',\n",
       " 'ninteen',\n",
       " 'one',\n",
       " 'one',\n",
       " 'one',\n",
       " 'one',\n",
       " 'one',\n",
       " 'one',\n",
       " 'one',\n",
       " 'one',\n",
       " 'one',\n",
       " 'one',\n",
       " 'seven',\n",
       " 'seven',\n",
       " 'seven',\n",
       " 'seven',\n",
       " 'seven',\n",
       " 'seven',\n",
       " 'seven',\n",
       " 'seven',\n",
       " 'seven',\n",
       " 'seven',\n",
       " 'seven',\n",
       " 'seven',\n",
       " 'seven',\n",
       " 'seven',\n",
       " 'seven',\n",
       " 'seven',\n",
       " 'seven',\n",
       " 'seventeen',\n",
       " 'seventeen',\n",
       " 'seventeen',\n",
       " 'seventeen',\n",
       " 'seventeen',\n",
       " 'seventeen',\n",
       " 'seventeen',\n",
       " 'seventeen',\n",
       " 'seventeen',\n",
       " 'seventeen',\n",
       " 'seventeen',\n",
       " 'seventeen',\n",
       " 'seventeen',\n",
       " 'seventeen',\n",
       " 'seventeen',\n",
       " 'seventeen',\n",
       " 'seventeen',\n",
       " 'seventeen',\n",
       " 'seventeen',\n",
       " 'seventeen',\n",
       " 'seventeen',\n",
       " 'six',\n",
       " 'six',\n",
       " 'six',\n",
       " 'six',\n",
       " 'six',\n",
       " 'six',\n",
       " 'six',\n",
       " 'six',\n",
       " 'six',\n",
       " 'six',\n",
       " 'six',\n",
       " 'six',\n",
       " 'sixteen',\n",
       " 'sixteen',\n",
       " 'sixteen',\n",
       " 'sixteen',\n",
       " 'sixteen',\n",
       " 'sixteen',\n",
       " 'sixteen',\n",
       " 'sixteen',\n",
       " 'sixteen',\n",
       " 'sixteen',\n",
       " 'sixteen',\n",
       " 'sixteen',\n",
       " 'sixteen',\n",
       " 'sixteen',\n",
       " 'sixteen',\n",
       " 'sixteen',\n",
       " 'sixteen',\n",
       " 'sixteen',\n",
       " 'sixteen',\n",
       " 'sixteen',\n",
       " 'sixteen',\n",
       " 'sixteen',\n",
       " 'ten',\n",
       " 'ten',\n",
       " 'ten',\n",
       " 'ten',\n",
       " 'ten',\n",
       " 'ten',\n",
       " 'ten',\n",
       " 'ten',\n",
       " 'ten',\n",
       " 'ten',\n",
       " 'ten',\n",
       " 'ten',\n",
       " 'ten',\n",
       " 'ten',\n",
       " 'thirteen',\n",
       " 'thirteen',\n",
       " 'thirteen',\n",
       " 'thirteen',\n",
       " 'thirteen',\n",
       " 'thirteen',\n",
       " 'thirteen',\n",
       " 'thirteen',\n",
       " 'thirteen',\n",
       " 'thirteen',\n",
       " 'thirteen',\n",
       " 'thirteen',\n",
       " 'thirteen',\n",
       " 'thirteen',\n",
       " 'thirteen',\n",
       " 'thirteen',\n",
       " 'thirteen',\n",
       " 'thirteen',\n",
       " 'thirteen',\n",
       " 'three',\n",
       " 'three',\n",
       " 'three',\n",
       " 'three',\n",
       " 'three',\n",
       " 'three',\n",
       " 'three',\n",
       " 'three',\n",
       " 'three',\n",
       " 'three',\n",
       " 'twelve',\n",
       " 'twelve',\n",
       " 'twelve',\n",
       " 'twelve',\n",
       " 'twelve',\n",
       " 'twelve',\n",
       " 'twelve',\n",
       " 'twelve',\n",
       " 'twelve',\n",
       " 'twelve',\n",
       " 'twelve',\n",
       " 'twelve',\n",
       " 'twelve',\n",
       " 'twelve',\n",
       " 'twelve',\n",
       " 'twelve',\n",
       " 'twelve',\n",
       " 'twelve',\n",
       " 'twelve',\n",
       " 'twelve',\n",
       " 'twenty',\n",
       " 'twenty',\n",
       " 'twenty',\n",
       " 'twenty',\n",
       " 'twenty',\n",
       " 'twenty',\n",
       " 'twenty',\n",
       " 'twenty',\n",
       " 'twenty',\n",
       " 'twenty',\n",
       " 'twenty',\n",
       " 'twenty',\n",
       " 'twenty',\n",
       " 'twenty',\n",
       " 'twenty',\n",
       " 'twenty',\n",
       " 'twenty',\n",
       " 'twenty',\n",
       " 'twenty',\n",
       " 'twenty',\n",
       " 'twenty',\n",
       " 'twenty',\n",
       " 'twenty',\n",
       " 'twenty',\n",
       " 'twenty',\n",
       " 'two',\n",
       " 'two',\n",
       " 'two',\n",
       " 'two',\n",
       " 'two',\n",
       " 'two',\n",
       " 'two',\n",
       " 'two',\n",
       " 'two']"
      ]
     },
     "execution_count": 18,
     "metadata": {},
     "output_type": "execute_result"
    }
   ],
   "source": [
    "y"
   ]
  },
  {
   "cell_type": "code",
   "execution_count": 120,
   "id": "b45561cd",
   "metadata": {},
   "outputs": [],
   "source": [
    "y=pd.DataFrame(y)"
   ]
  },
  {
   "cell_type": "code",
   "execution_count": 123,
   "id": "ce24bb64",
   "metadata": {},
   "outputs": [
    {
     "data": {
      "text/html": [
       "<div>\n",
       "<style scoped>\n",
       "    .dataframe tbody tr th:only-of-type {\n",
       "        vertical-align: middle;\n",
       "    }\n",
       "\n",
       "    .dataframe tbody tr th {\n",
       "        vertical-align: top;\n",
       "    }\n",
       "\n",
       "    .dataframe thead th {\n",
       "        text-align: right;\n",
       "    }\n",
       "</style>\n",
       "<table border=\"1\" class=\"dataframe\">\n",
       "  <thead>\n",
       "    <tr style=\"text-align: right;\">\n",
       "      <th></th>\n",
       "      <th>0</th>\n",
       "    </tr>\n",
       "  </thead>\n",
       "  <tbody>\n",
       "    <tr>\n",
       "      <th>0</th>\n",
       "      <td>eighteen</td>\n",
       "    </tr>\n",
       "    <tr>\n",
       "      <th>1</th>\n",
       "      <td>eleven</td>\n",
       "    </tr>\n",
       "    <tr>\n",
       "      <th>2</th>\n",
       "      <td>six</td>\n",
       "    </tr>\n",
       "    <tr>\n",
       "      <th>3</th>\n",
       "      <td>two</td>\n",
       "    </tr>\n",
       "    <tr>\n",
       "      <th>4</th>\n",
       "      <td>seven</td>\n",
       "    </tr>\n",
       "  </tbody>\n",
       "</table>\n",
       "</div>"
      ],
      "text/plain": [
       "          0\n",
       "0  eighteen\n",
       "1    eleven\n",
       "2       six\n",
       "3       two\n",
       "4     seven"
      ]
     },
     "execution_count": 123,
     "metadata": {},
     "output_type": "execute_result"
    }
   ],
   "source": [
    "y.head()"
   ]
  },
  {
   "cell_type": "code",
   "execution_count": 11,
   "id": "636ad201",
   "metadata": {},
   "outputs": [],
   "source": [
    "from sklearn.model_selection import train_test_split\n",
    "from sklearn.preprocessing import LabelEncoder"
   ]
  },
  {
   "cell_type": "code",
   "execution_count": 19,
   "id": "98a25ed1",
   "metadata": {},
   "outputs": [],
   "source": [
    "le=LabelEncoder()\n",
    "y=le.fit_transform(y)"
   ]
  },
  {
   "cell_type": "code",
   "execution_count": 20,
   "id": "799dba07",
   "metadata": {},
   "outputs": [
    {
     "data": {
      "text/plain": [
       "array([ 0,  0,  0,  0,  0,  0,  0,  0,  0,  0,  0,  0,  0,  0,  0,  0,  1,\n",
       "        1,  1,  1,  1,  1,  1,  1,  1,  1,  1,  1,  1,  1,  1,  1,  1,  1,\n",
       "        1,  1,  1,  1,  1,  1,  2,  2,  2,  2,  2,  2,  2,  2,  2,  2,  2,\n",
       "        2,  2,  2,  2,  2,  3,  3,  3,  3,  3,  3,  3,  3,  3,  3,  3,  3,\n",
       "        3,  3,  3,  3,  3,  3,  3,  3,  4,  4,  4,  4,  4,  4,  4,  4,  4,\n",
       "        4,  5,  5,  5,  5,  5,  5,  5,  5,  5,  5,  5,  6,  6,  6,  6,  6,\n",
       "        6,  6,  6,  6,  6,  6,  6,  6,  6,  6,  7,  7,  7,  7,  7,  7,  7,\n",
       "        7,  7,  7,  7,  7,  7,  7,  7,  7,  7,  7,  7,  7,  7,  7,  8,  8,\n",
       "        8,  8,  8,  8,  8,  8,  8,  8,  8,  8,  8,  8,  8,  8,  8,  8,  8,\n",
       "        8,  8,  9,  9,  9,  9,  9,  9,  9,  9,  9,  9, 10, 10, 10, 10, 10,\n",
       "       10, 10, 10, 10, 10, 10, 10, 10, 10, 10, 10, 10, 11, 11, 11, 11, 11,\n",
       "       11, 11, 11, 11, 11, 11, 11, 11, 11, 11, 11, 11, 11, 11, 11, 11, 12,\n",
       "       12, 12, 12, 12, 12, 12, 12, 12, 12, 12, 12, 13, 13, 13, 13, 13, 13,\n",
       "       13, 13, 13, 13, 13, 13, 13, 13, 13, 13, 13, 13, 13, 13, 13, 13, 14,\n",
       "       14, 14, 14, 14, 14, 14, 14, 14, 14, 14, 14, 14, 14, 15, 15, 15, 15,\n",
       "       15, 15, 15, 15, 15, 15, 15, 15, 15, 15, 15, 15, 15, 15, 15, 16, 16,\n",
       "       16, 16, 16, 16, 16, 16, 16, 16, 17, 17, 17, 17, 17, 17, 17, 17, 17,\n",
       "       17, 17, 17, 17, 17, 17, 17, 17, 17, 17, 17, 18, 18, 18, 18, 18, 18,\n",
       "       18, 18, 18, 18, 18, 18, 18, 18, 18, 18, 18, 18, 18, 18, 18, 18, 18,\n",
       "       18, 18, 19, 19, 19, 19, 19, 19, 19, 19, 19], dtype=int64)"
      ]
     },
     "execution_count": 20,
     "metadata": {},
     "output_type": "execute_result"
    }
   ],
   "source": [
    "y"
   ]
  },
  {
   "cell_type": "raw",
   "id": "4f62f7c5",
   "metadata": {},
   "source": []
  },
  {
   "cell_type": "code",
   "execution_count": 14,
   "id": "6e71bcc3",
   "metadata": {},
   "outputs": [],
   "source": [
    "X=np.array(X)\n",
    "X = X.astype('float32')\n",
    "X /= 255\n",
    "Y = to_categorical(y, 20)"
   ]
  },
  {
   "cell_type": "code",
   "execution_count": 15,
   "id": "9994b1ca",
   "metadata": {},
   "outputs": [
    {
     "data": {
      "text/plain": [
       "array([[1., 0., 0., ..., 0., 0., 0.],\n",
       "       [1., 0., 0., ..., 0., 0., 0.],\n",
       "       [1., 0., 0., ..., 0., 0., 0.],\n",
       "       ...,\n",
       "       [0., 0., 0., ..., 0., 0., 1.],\n",
       "       [0., 0., 0., ..., 0., 0., 1.],\n",
       "       [0., 0., 0., ..., 0., 0., 1.]], dtype=float32)"
      ]
     },
     "execution_count": 15,
     "metadata": {},
     "output_type": "execute_result"
    }
   ],
   "source": [
    "Y"
   ]
  },
  {
   "cell_type": "code",
   "execution_count": 25,
   "id": "ea2e77cf",
   "metadata": {},
   "outputs": [],
   "source": [
    "X_train, X_test, y_train, y_test = train_test_split(X, Y, test_size = 0.2, random_state =21)"
   ]
  },
  {
   "cell_type": "code",
   "execution_count": 26,
   "id": "2cb43114",
   "metadata": {},
   "outputs": [],
   "source": [
    "batch_size = 32\n",
    "img_shape = (256, 256, 3)"
   ]
  },
  {
   "cell_type": "code",
   "execution_count": 27,
   "id": "3ea884a1",
   "metadata": {},
   "outputs": [
    {
     "data": {
      "text/plain": [
       "(267, 267)"
      ]
     },
     "execution_count": 27,
     "metadata": {},
     "output_type": "execute_result"
    }
   ],
   "source": [
    "len(X_train),len(y_train)"
   ]
  },
  {
   "cell_type": "code",
   "execution_count": 33,
   "id": "02409c7f",
   "metadata": {},
   "outputs": [],
   "source": [
    "early_stop = EarlyStopping(monitor='val_loss',patience=10)"
   ]
  },
  {
   "cell_type": "code",
   "execution_count": 30,
   "id": "859814ad",
   "metadata": {},
   "outputs": [
    {
     "name": "stdout",
     "output_type": "stream",
     "text": [
      "Model: \"sequential_3\"\n",
      "_________________________________________________________________\n",
      " Layer (type)                Output Shape              Param #   \n",
      "=================================================================\n",
      " xception (Functional)       (None, 2048)              20861480  \n",
      "                                                                 \n",
      " flatten_3 (Flatten)         (None, 2048)              0         \n",
      "                                                                 \n",
      " dense_6 (Dense)             (None, 512)               1049088   \n",
      "                                                                 \n",
      " dense_7 (Dense)             (None, 20)                10260     \n",
      "                                                                 \n",
      "=================================================================\n",
      "Total params: 21920828 (83.62 MB)\n",
      "Trainable params: 1059348 (4.04 MB)\n",
      "Non-trainable params: 20861480 (79.58 MB)\n",
      "_________________________________________________________________\n"
     ]
    }
   ],
   "source": [
    "xception_model = Sequential()\n",
    "\n",
    "pretrained_model= tf.keras.applications.Xception(include_top=False,\n",
    "                   input_shape=(256,256,3),\n",
    "                   pooling='avg',\n",
    "                   weights= 'imagenet')\n",
    "for layer in pretrained_model.layers:\n",
    "        layer.trainable=False\n",
    "\n",
    "xception_model.add(pretrained_model)\n",
    "xception_model.add(Flatten())\n",
    "xception_model.add(Dense(512, activation='relu'))\n",
    "xception_model.add(Dense(20,activation='softmax'))\n",
    "xception_model.compile(loss='categorical_crossentropy',\n",
    "              optimizer='adam',\n",
    "              metrics=['accuracy'])\n",
    "\n",
    "xception_model.summary()"
   ]
  },
  {
   "cell_type": "code",
   "execution_count": 34,
   "id": "bc89555a",
   "metadata": {},
   "outputs": [
    {
     "name": "stdout",
     "output_type": "stream",
     "text": [
      "Epoch 1/30\n",
      "9/9 [==============================] - 29s 3s/step - loss: 0.4154 - accuracy: 0.9588 - val_loss: 4.0688 - val_accuracy: 0.1791\n",
      "Epoch 2/30\n",
      "9/9 [==============================] - 29s 3s/step - loss: 0.3918 - accuracy: 0.9625 - val_loss: 4.1329 - val_accuracy: 0.1642\n",
      "Epoch 3/30\n",
      "9/9 [==============================] - 29s 3s/step - loss: 0.3618 - accuracy: 0.9551 - val_loss: 4.1434 - val_accuracy: 0.1791\n",
      "Epoch 4/30\n",
      "9/9 [==============================] - 29s 3s/step - loss: 0.3386 - accuracy: 0.9588 - val_loss: 4.1936 - val_accuracy: 0.1493\n",
      "Epoch 5/30\n",
      "9/9 [==============================] - 29s 3s/step - loss: 0.3038 - accuracy: 0.9775 - val_loss: 4.2304 - val_accuracy: 0.1940\n",
      "Epoch 6/30\n",
      "9/9 [==============================] - 31s 4s/step - loss: 0.2787 - accuracy: 0.9813 - val_loss: 4.4127 - val_accuracy: 0.1642\n",
      "Epoch 7/30\n",
      "9/9 [==============================] - 30s 3s/step - loss: 0.2649 - accuracy: 0.9700 - val_loss: 4.3654 - val_accuracy: 0.1642\n",
      "Epoch 8/30\n",
      "9/9 [==============================] - 30s 3s/step - loss: 0.2568 - accuracy: 0.9700 - val_loss: 4.4201 - val_accuracy: 0.1940\n",
      "Epoch 9/30\n",
      "9/9 [==============================] - 31s 4s/step - loss: 0.2360 - accuracy: 0.9813 - val_loss: 4.4782 - val_accuracy: 0.1940\n",
      "Epoch 10/30\n",
      "9/9 [==============================] - 32s 4s/step - loss: 0.2201 - accuracy: 0.9850 - val_loss: 4.4933 - val_accuracy: 0.2090\n",
      "Epoch 11/30\n",
      "9/9 [==============================] - 32s 4s/step - loss: 0.2039 - accuracy: 0.9850 - val_loss: 4.5563 - val_accuracy: 0.1940\n",
      "Epoch 12/30\n",
      "9/9 [==============================] - 31s 3s/step - loss: 0.1930 - accuracy: 0.9850 - val_loss: 4.5705 - val_accuracy: 0.1791\n",
      "Epoch 13/30\n",
      "9/9 [==============================] - 29s 3s/step - loss: 0.1876 - accuracy: 0.9850 - val_loss: 4.6335 - val_accuracy: 0.1940\n",
      "Epoch 14/30\n",
      "9/9 [==============================] - 30s 3s/step - loss: 0.1816 - accuracy: 0.9850 - val_loss: 4.6448 - val_accuracy: 0.2090\n",
      "Epoch 15/30\n",
      "9/9 [==============================] - 36s 4s/step - loss: 0.1808 - accuracy: 0.9850 - val_loss: 4.7141 - val_accuracy: 0.1791\n",
      "Epoch 16/30\n",
      "9/9 [==============================] - 34s 4s/step - loss: 0.1530 - accuracy: 0.9925 - val_loss: 4.7513 - val_accuracy: 0.1791\n",
      "Epoch 17/30\n",
      "9/9 [==============================] - 37s 4s/step - loss: 0.1449 - accuracy: 0.9925 - val_loss: 4.8173 - val_accuracy: 0.2090\n",
      "Epoch 18/30\n",
      "9/9 [==============================] - 43s 5s/step - loss: 0.1370 - accuracy: 0.9925 - val_loss: 4.8068 - val_accuracy: 0.1940\n",
      "Epoch 19/30\n",
      "9/9 [==============================] - 41s 4s/step - loss: 0.1277 - accuracy: 0.9963 - val_loss: 4.8478 - val_accuracy: 0.2090\n",
      "Epoch 20/30\n",
      "9/9 [==============================] - 36s 4s/step - loss: 0.1164 - accuracy: 0.9925 - val_loss: 4.8290 - val_accuracy: 0.1940\n",
      "Epoch 21/30\n",
      "9/9 [==============================] - 34s 4s/step - loss: 0.1122 - accuracy: 0.9963 - val_loss: 4.9299 - val_accuracy: 0.1791\n",
      "Epoch 22/30\n",
      "9/9 [==============================] - 35s 4s/step - loss: 0.1052 - accuracy: 0.9925 - val_loss: 4.9374 - val_accuracy: 0.1940\n",
      "Epoch 23/30\n",
      "9/9 [==============================] - 35s 4s/step - loss: 0.1002 - accuracy: 0.9963 - val_loss: 4.9871 - val_accuracy: 0.2239\n",
      "Epoch 24/30\n",
      "9/9 [==============================] - 34s 4s/step - loss: 0.0970 - accuracy: 0.9963 - val_loss: 4.9988 - val_accuracy: 0.1940\n",
      "Epoch 25/30\n",
      "9/9 [==============================] - 35s 4s/step - loss: 0.0951 - accuracy: 0.9925 - val_loss: 5.0614 - val_accuracy: 0.2239\n",
      "Epoch 26/30\n",
      "9/9 [==============================] - 34s 4s/step - loss: 0.1001 - accuracy: 0.9925 - val_loss: 5.0858 - val_accuracy: 0.2090\n",
      "Epoch 27/30\n",
      "9/9 [==============================] - 35s 4s/step - loss: 0.0973 - accuracy: 0.9925 - val_loss: 5.1156 - val_accuracy: 0.2090\n",
      "Epoch 28/30\n",
      "9/9 [==============================] - 32s 4s/step - loss: 0.0897 - accuracy: 0.9925 - val_loss: 5.0988 - val_accuracy: 0.2239\n",
      "Epoch 29/30\n",
      "9/9 [==============================] - 31s 3s/step - loss: 0.0836 - accuracy: 0.9963 - val_loss: 5.1580 - val_accuracy: 0.1940\n",
      "Epoch 30/30\n",
      "9/9 [==============================] - 31s 4s/step - loss: 0.0929 - accuracy: 0.9925 - val_loss: 5.1420 - val_accuracy: 0.2239\n"
     ]
    },
    {
     "data": {
      "text/plain": [
       "<keras.src.callbacks.History at 0x1e7d3175890>"
      ]
     },
     "execution_count": 34,
     "metadata": {},
     "output_type": "execute_result"
    }
   ],
   "source": [
    "xception_model.fit(X_train, y_train, epochs = 30, verbose = 1,validation_data=(X_test,y_test),callbacks=[early_stop])"
   ]
  },
  {
   "cell_type": "code",
   "execution_count": 45,
   "id": "b1f21ed0",
   "metadata": {},
   "outputs": [
    {
     "data": {
      "text/plain": [
       "(256, 256, 3)"
      ]
     },
     "execution_count": 45,
     "metadata": {},
     "output_type": "execute_result"
    }
   ],
   "source": [
    "X_test[2].shape"
   ]
  },
  {
   "cell_type": "code",
   "execution_count": 81,
   "id": "97914fe2",
   "metadata": {},
   "outputs": [
    {
     "name": "stdout",
     "output_type": "stream",
     "text": [
      "1/1 [==============================] - 0s 104ms/step\n"
     ]
    },
    {
     "data": {
      "text/plain": [
       "7"
      ]
     },
     "execution_count": 81,
     "metadata": {},
     "output_type": "execute_result"
    }
   ],
   "source": [
    "np.argmax(xception_model.predict(X))"
   ]
  },
  {
   "cell_type": "code",
   "execution_count": 82,
   "id": "0f32cd6d",
   "metadata": {},
   "outputs": [
    {
     "data": {
      "text/plain": [
       "{}"
      ]
     },
     "execution_count": 82,
     "metadata": {},
     "output_type": "execute_result"
    }
   ],
   "source": []
  },
  {
   "cell_type": "code",
   "execution_count": 48,
   "id": "f9776924",
   "metadata": {},
   "outputs": [
    {
     "data": {
      "text/html": [
       "<div>\n",
       "<style scoped>\n",
       "    .dataframe tbody tr th:only-of-type {\n",
       "        vertical-align: middle;\n",
       "    }\n",
       "\n",
       "    .dataframe tbody tr th {\n",
       "        vertical-align: top;\n",
       "    }\n",
       "\n",
       "    .dataframe thead th {\n",
       "        text-align: right;\n",
       "    }\n",
       "</style>\n",
       "<table border=\"1\" class=\"dataframe\">\n",
       "  <thead>\n",
       "    <tr style=\"text-align: right;\">\n",
       "      <th></th>\n",
       "    </tr>\n",
       "  </thead>\n",
       "  <tbody>\n",
       "  </tbody>\n",
       "</table>\n",
       "</div>"
      ],
      "text/plain": [
       "Empty DataFrame\n",
       "Columns: []\n",
       "Index: []"
      ]
     },
     "execution_count": 48,
     "metadata": {},
     "output_type": "execute_result"
    }
   ],
   "source": [
    "summary = pd.DataFrame(xception_model.history.history)\n",
    "summary.head(15)"
   ]
  },
  {
   "cell_type": "code",
   "execution_count": 49,
   "id": "cd4b889b",
   "metadata": {},
   "outputs": [
    {
     "ename": "AttributeError",
     "evalue": "'DataFrame' object has no attribute 'loss'",
     "output_type": "error",
     "traceback": [
      "\u001b[1;31m---------------------------------------------------------------------------\u001b[0m",
      "\u001b[1;31mAttributeError\u001b[0m                            Traceback (most recent call last)",
      "\u001b[1;32m~\\AppData\\Local\\Temp\\ipykernel_20368\\2353261297.py\u001b[0m in \u001b[0;36m?\u001b[1;34m()\u001b[0m\n\u001b[0;32m      1\u001b[0m \u001b[0mplt\u001b[0m\u001b[1;33m.\u001b[0m\u001b[0mfigure\u001b[0m\u001b[1;33m(\u001b[0m\u001b[0mfigsize\u001b[0m\u001b[1;33m=\u001b[0m\u001b[1;33m(\u001b[0m\u001b[1;36m10\u001b[0m\u001b[1;33m,\u001b[0m\u001b[1;36m6\u001b[0m\u001b[1;33m)\u001b[0m\u001b[1;33m)\u001b[0m\u001b[1;33m\u001b[0m\u001b[1;33m\u001b[0m\u001b[0m\n\u001b[1;32m----> 2\u001b[1;33m \u001b[0mplt\u001b[0m\u001b[1;33m.\u001b[0m\u001b[0mplot\u001b[0m\u001b[1;33m(\u001b[0m\u001b[0msummary\u001b[0m\u001b[1;33m.\u001b[0m\u001b[0mloss\u001b[0m\u001b[1;33m,\u001b[0m \u001b[0mlabel\u001b[0m\u001b[1;33m=\u001b[0m\u001b[1;34m\"loss\"\u001b[0m\u001b[1;33m)\u001b[0m\u001b[1;33m\u001b[0m\u001b[1;33m\u001b[0m\u001b[0m\n\u001b[0m\u001b[0;32m      3\u001b[0m \u001b[0mplt\u001b[0m\u001b[1;33m.\u001b[0m\u001b[0mplot\u001b[0m\u001b[1;33m(\u001b[0m\u001b[0msummary\u001b[0m\u001b[1;33m.\u001b[0m\u001b[0mval_loss\u001b[0m\u001b[1;33m,\u001b[0m \u001b[0mlabel\u001b[0m\u001b[1;33m=\u001b[0m\u001b[1;34m\"val_loss\"\u001b[0m\u001b[1;33m)\u001b[0m\u001b[1;33m\u001b[0m\u001b[1;33m\u001b[0m\u001b[0m\n\u001b[0;32m      4\u001b[0m \u001b[0mplt\u001b[0m\u001b[1;33m.\u001b[0m\u001b[0mlegend\u001b[0m\u001b[1;33m(\u001b[0m\u001b[0mloc\u001b[0m\u001b[1;33m=\u001b[0m\u001b[1;34m\"upper right\"\u001b[0m\u001b[1;33m)\u001b[0m\u001b[1;33m\u001b[0m\u001b[1;33m\u001b[0m\u001b[0m\n\u001b[0;32m      5\u001b[0m \u001b[0mplt\u001b[0m\u001b[1;33m.\u001b[0m\u001b[0mylabel\u001b[0m\u001b[1;33m(\u001b[0m\u001b[1;34m\"Loss\"\u001b[0m\u001b[1;33m)\u001b[0m\u001b[1;33m\u001b[0m\u001b[1;33m\u001b[0m\u001b[0m\n",
      "\u001b[1;32m~\\AppData\\Local\\Programs\\Python\\Python311\\Lib\\site-packages\\pandas\\core\\generic.py\u001b[0m in \u001b[0;36m?\u001b[1;34m(self, name)\u001b[0m\n\u001b[0;32m   6289\u001b[0m             \u001b[1;32mand\u001b[0m \u001b[0mname\u001b[0m \u001b[1;32mnot\u001b[0m \u001b[1;32min\u001b[0m \u001b[0mself\u001b[0m\u001b[1;33m.\u001b[0m\u001b[0m_accessors\u001b[0m\u001b[1;33m\u001b[0m\u001b[1;33m\u001b[0m\u001b[0m\n\u001b[0;32m   6290\u001b[0m             \u001b[1;32mand\u001b[0m \u001b[0mself\u001b[0m\u001b[1;33m.\u001b[0m\u001b[0m_info_axis\u001b[0m\u001b[1;33m.\u001b[0m\u001b[0m_can_hold_identifiers_and_holds_name\u001b[0m\u001b[1;33m(\u001b[0m\u001b[0mname\u001b[0m\u001b[1;33m)\u001b[0m\u001b[1;33m\u001b[0m\u001b[1;33m\u001b[0m\u001b[0m\n\u001b[0;32m   6291\u001b[0m         ):\n\u001b[0;32m   6292\u001b[0m             \u001b[1;32mreturn\u001b[0m \u001b[0mself\u001b[0m\u001b[1;33m[\u001b[0m\u001b[0mname\u001b[0m\u001b[1;33m]\u001b[0m\u001b[1;33m\u001b[0m\u001b[1;33m\u001b[0m\u001b[0m\n\u001b[1;32m-> 6293\u001b[1;33m         \u001b[1;32mreturn\u001b[0m \u001b[0mobject\u001b[0m\u001b[1;33m.\u001b[0m\u001b[0m__getattribute__\u001b[0m\u001b[1;33m(\u001b[0m\u001b[0mself\u001b[0m\u001b[1;33m,\u001b[0m \u001b[0mname\u001b[0m\u001b[1;33m)\u001b[0m\u001b[1;33m\u001b[0m\u001b[1;33m\u001b[0m\u001b[0m\n\u001b[0m",
      "\u001b[1;31mAttributeError\u001b[0m: 'DataFrame' object has no attribute 'loss'"
     ]
    },
    {
     "data": {
      "text/plain": [
       "<Figure size 1000x600 with 0 Axes>"
      ]
     },
     "metadata": {},
     "output_type": "display_data"
    }
   ],
   "source": [
    "plt.figure(figsize=(10,6))\n",
    "plt.plot(summary.loss, label=\"loss\")\n",
    "plt.plot(summary.val_loss, label=\"val_loss\")\n",
    "plt.legend(loc=\"upper right\")\n",
    "plt.ylabel(\"Loss\")\n",
    "plt.xlabel(\"Epoch\")\n",
    "plt.show()"
   ]
  },
  {
   "cell_type": "code",
   "execution_count": 36,
   "id": "6fc2a404",
   "metadata": {},
   "outputs": [],
   "source": [
    "image_shape=(256,256,3)\n"
   ]
  },
  {
   "cell_type": "code",
   "execution_count": 39,
   "id": "a6d3cfde",
   "metadata": {},
   "outputs": [
    {
     "name": "stdout",
     "output_type": "stream",
     "text": [
      "Model: \"sequential_6\"\n",
      "_________________________________________________________________\n",
      " Layer (type)                Output Shape              Param #   \n",
      "=================================================================\n",
      " resnet152 (Functional)      (None, 2048)              58370944  \n",
      "                                                                 \n",
      " flatten_5 (Flatten)         (None, 2048)              0         \n",
      "                                                                 \n",
      " dense_10 (Dense)            (None, 512)               1049088   \n",
      "                                                                 \n",
      " dense_11 (Dense)            (None, 20)                10260     \n",
      "                                                                 \n",
      "=================================================================\n",
      "Total params: 59430292 (226.71 MB)\n",
      "Trainable params: 1059348 (4.04 MB)\n",
      "Non-trainable params: 58370944 (222.67 MB)\n",
      "_________________________________________________________________\n"
     ]
    }
   ],
   "source": [
    "resnet_model152 = Sequential()\n",
    "\n",
    "pretrained_model= tf.keras.applications.ResNet152(include_top=False,\n",
    "                   input_shape=image_shape,\n",
    "                   pooling='avg',\n",
    "                   weights= 'imagenet')\n",
    "for layer in pretrained_model.layers:\n",
    "        layer.trainable=False\n",
    "\n",
    "resnet_model152.add(pretrained_model)\n",
    "resnet_model152.add(Flatten())\n",
    "resnet_model152.add(Dense(512, activation='relu'))\n",
    "resnet_model152.add(Dense(20, activation='softmax'))\n",
    "resnet_model152.compile(loss='categorical_crossentropy',\n",
    "              optimizer='adam',\n",
    "              metrics=['accuracy'])\n",
    "\n",
    "resnet_model152.summary()"
   ]
  },
  {
   "cell_type": "code",
   "execution_count": 40,
   "id": "929b35da",
   "metadata": {},
   "outputs": [
    {
     "name": "stdout",
     "output_type": "stream",
     "text": [
      "Epoch 1/30\n",
      "9/9 [==============================] - 117s 12s/step - loss: 3.3657 - accuracy: 0.0749 - val_loss: 3.2379 - val_accuracy: 0.0448\n",
      "Epoch 2/30\n",
      "9/9 [==============================] - 103s 12s/step - loss: 2.9747 - accuracy: 0.0974 - val_loss: 3.1293 - val_accuracy: 0.0299\n",
      "Epoch 3/30\n",
      "9/9 [==============================] - 100s 11s/step - loss: 2.8330 - accuracy: 0.1648 - val_loss: 3.0024 - val_accuracy: 0.0448\n",
      "Epoch 4/30\n",
      "9/9 [==============================] - 91s 10s/step - loss: 2.6957 - accuracy: 0.2022 - val_loss: 2.9834 - val_accuracy: 0.0597\n",
      "Epoch 5/30\n",
      "9/9 [==============================] - 89s 10s/step - loss: 2.6122 - accuracy: 0.2022 - val_loss: 2.9643 - val_accuracy: 0.0746\n",
      "Epoch 6/30\n",
      "9/9 [==============================] - 83s 9s/step - loss: 2.5490 - accuracy: 0.2622 - val_loss: 2.9983 - val_accuracy: 0.0896\n",
      "Epoch 7/30\n",
      "9/9 [==============================] - 80s 9s/step - loss: 2.4707 - accuracy: 0.2360 - val_loss: 2.9168 - val_accuracy: 0.0896\n",
      "Epoch 8/30\n",
      "9/9 [==============================] - 89s 10s/step - loss: 2.4458 - accuracy: 0.2734 - val_loss: 3.0061 - val_accuracy: 0.1045\n",
      "Epoch 9/30\n",
      "9/9 [==============================] - 92s 11s/step - loss: 2.3966 - accuracy: 0.2697 - val_loss: 2.8345 - val_accuracy: 0.1194\n",
      "Epoch 10/30\n",
      "9/9 [==============================] - 92s 10s/step - loss: 2.3334 - accuracy: 0.3258 - val_loss: 3.0008 - val_accuracy: 0.1194\n",
      "Epoch 11/30\n",
      "9/9 [==============================] - 85s 10s/step - loss: 2.3054 - accuracy: 0.2884 - val_loss: 2.8929 - val_accuracy: 0.0746\n",
      "Epoch 12/30\n",
      "9/9 [==============================] - 89s 10s/step - loss: 2.2944 - accuracy: 0.3034 - val_loss: 2.9463 - val_accuracy: 0.0896\n",
      "Epoch 13/30\n",
      "9/9 [==============================] - 90s 10s/step - loss: 2.2174 - accuracy: 0.2884 - val_loss: 2.8717 - val_accuracy: 0.1194\n",
      "Epoch 14/30\n",
      "9/9 [==============================] - 89s 10s/step - loss: 2.1457 - accuracy: 0.3745 - val_loss: 2.9098 - val_accuracy: 0.1045\n",
      "Epoch 15/30\n",
      "9/9 [==============================] - 102s 12s/step - loss: 2.1221 - accuracy: 0.3596 - val_loss: 2.8192 - val_accuracy: 0.1791\n",
      "Epoch 16/30\n",
      "9/9 [==============================] - 83s 9s/step - loss: 2.0701 - accuracy: 0.3970 - val_loss: 2.9260 - val_accuracy: 0.1194\n",
      "Epoch 17/30\n",
      "9/9 [==============================] - 78s 9s/step - loss: 2.0230 - accuracy: 0.4120 - val_loss: 2.8003 - val_accuracy: 0.1493\n",
      "Epoch 18/30\n",
      "9/9 [==============================] - 88s 10s/step - loss: 1.9960 - accuracy: 0.4120 - val_loss: 2.9463 - val_accuracy: 0.1045\n",
      "Epoch 19/30\n",
      "9/9 [==============================] - 89s 10s/step - loss: 1.9564 - accuracy: 0.4232 - val_loss: 2.8494 - val_accuracy: 0.1343\n",
      "Epoch 20/30\n",
      "9/9 [==============================] - 90s 10s/step - loss: 1.9785 - accuracy: 0.4045 - val_loss: 2.8517 - val_accuracy: 0.1642\n",
      "Epoch 21/30\n",
      "9/9 [==============================] - 89s 10s/step - loss: 1.9028 - accuracy: 0.4682 - val_loss: 2.9065 - val_accuracy: 0.1045\n",
      "Epoch 22/30\n",
      "9/9 [==============================] - 90s 10s/step - loss: 1.8772 - accuracy: 0.4307 - val_loss: 2.9000 - val_accuracy: 0.1493\n",
      "Epoch 23/30\n",
      "9/9 [==============================] - 91s 10s/step - loss: 1.8320 - accuracy: 0.4869 - val_loss: 2.8515 - val_accuracy: 0.1194\n",
      "Epoch 24/30\n",
      "9/9 [==============================] - 95s 11s/step - loss: 1.8437 - accuracy: 0.4831 - val_loss: 2.8496 - val_accuracy: 0.1493\n",
      "Epoch 25/30\n",
      "9/9 [==============================] - 92s 10s/step - loss: 1.7935 - accuracy: 0.4607 - val_loss: 2.8354 - val_accuracy: 0.1493\n",
      "Epoch 26/30\n",
      "9/9 [==============================] - 91s 10s/step - loss: 1.7326 - accuracy: 0.4831 - val_loss: 2.7793 - val_accuracy: 0.1343\n",
      "Epoch 27/30\n",
      "9/9 [==============================] - 95s 11s/step - loss: 1.7185 - accuracy: 0.5468 - val_loss: 2.9419 - val_accuracy: 0.1343\n",
      "Epoch 28/30\n",
      "9/9 [==============================] - 97s 11s/step - loss: 1.7487 - accuracy: 0.4794 - val_loss: 2.8648 - val_accuracy: 0.1343\n",
      "Epoch 29/30\n",
      "9/9 [==============================] - 82s 9s/step - loss: 1.6941 - accuracy: 0.4831 - val_loss: 2.8498 - val_accuracy: 0.1493\n",
      "Epoch 30/30\n",
      "9/9 [==============================] - 84s 10s/step - loss: 1.6068 - accuracy: 0.5581 - val_loss: 2.8454 - val_accuracy: 0.1194\n"
     ]
    }
   ],
   "source": [
    "results = resnet_model152.fit(X_train, y_train, epochs = 30, verbose = 1,validation_data=(X_test,y_test),callbacks=[early_stop])"
   ]
  },
  {
   "cell_type": "code",
   "execution_count": null,
   "id": "6bb8430e",
   "metadata": {},
   "outputs": [],
   "source": []
  },
  {
   "cell_type": "code",
   "execution_count": 41,
   "id": "6e85026b",
   "metadata": {},
   "outputs": [
    {
     "name": "stdout",
     "output_type": "stream",
     "text": [
      "Downloading data from https://storage.googleapis.com/tensorflow/keras-applications/vgg16/vgg16_weights_tf_dim_ordering_tf_kernels_notop.h5\n",
      "58889256/58889256 [==============================] - 19s 0us/step\n",
      "Model: \"sequential_7\"\n",
      "_________________________________________________________________\n",
      " Layer (type)                Output Shape              Param #   \n",
      "=================================================================\n",
      " vgg16 (Functional)          (None, 512)               14714688  \n",
      "                                                                 \n",
      " flatten_6 (Flatten)         (None, 512)               0         \n",
      "                                                                 \n",
      " dense_12 (Dense)            (None, 512)               262656    \n",
      "                                                                 \n",
      " dense_13 (Dense)            (None, 20)                10260     \n",
      "                                                                 \n",
      "=================================================================\n",
      "Total params: 14987604 (57.17 MB)\n",
      "Trainable params: 272916 (1.04 MB)\n",
      "Non-trainable params: 14714688 (56.13 MB)\n",
      "_________________________________________________________________\n"
     ]
    }
   ],
   "source": [
    "vcg16_model = Sequential()\n",
    "\n",
    "pretrained_model= tf.keras.applications.VGG16(include_top=False,\n",
    "                   input_shape=image_shape,\n",
    "                   pooling='avg',\n",
    "                   weights= 'imagenet')\n",
    "for layer in pretrained_model.layers:\n",
    "        layer.trainable=False\n",
    "\n",
    "vcg16_model.add(pretrained_model)\n",
    "vcg16_model.add(Flatten())\n",
    "vcg16_model.add(Dense(512, activation='relu'))\n",
    "vcg16_model.add(Dense(20, activation='softmax'))\n",
    "vcg16_model.compile(loss='categorical_crossentropy',\n",
    "              optimizer='adam',\n",
    "              metrics=['accuracy'])\n",
    "\n",
    "vcg16_model.summary()"
   ]
  },
  {
   "cell_type": "code",
   "execution_count": 42,
   "id": "3a213676",
   "metadata": {},
   "outputs": [
    {
     "name": "stdout",
     "output_type": "stream",
     "text": [
      "Epoch 1/30\n",
      "9/9 [==============================] - 81s 9s/step - loss: 3.0601 - accuracy: 0.0412 - val_loss: 3.0601 - val_accuracy: 0.0448\n",
      "Epoch 2/30\n",
      "9/9 [==============================] - 77s 9s/step - loss: 2.9501 - accuracy: 0.0749 - val_loss: 2.9973 - val_accuracy: 0.0448\n",
      "Epoch 3/30\n",
      "9/9 [==============================] - 77s 9s/step - loss: 2.8660 - accuracy: 0.1086 - val_loss: 2.9854 - val_accuracy: 0.0896\n",
      "Epoch 4/30\n",
      "9/9 [==============================] - 77s 9s/step - loss: 2.8148 - accuracy: 0.1386 - val_loss: 2.9296 - val_accuracy: 0.1343\n",
      "Epoch 5/30\n",
      "9/9 [==============================] - 77s 9s/step - loss: 2.7642 - accuracy: 0.2060 - val_loss: 2.9317 - val_accuracy: 0.0597\n",
      "Epoch 6/30\n",
      "9/9 [==============================] - 76s 9s/step - loss: 2.7327 - accuracy: 0.1348 - val_loss: 2.8926 - val_accuracy: 0.0746\n",
      "Epoch 7/30\n",
      "9/9 [==============================] - 76s 9s/step - loss: 2.6722 - accuracy: 0.2360 - val_loss: 2.8681 - val_accuracy: 0.0896\n",
      "Epoch 8/30\n",
      "9/9 [==============================] - 76s 9s/step - loss: 2.6255 - accuracy: 0.2247 - val_loss: 2.8888 - val_accuracy: 0.1343\n",
      "Epoch 9/30\n",
      "9/9 [==============================] - 86s 10s/step - loss: 2.5829 - accuracy: 0.2547 - val_loss: 2.8265 - val_accuracy: 0.0746\n",
      "Epoch 10/30\n",
      "9/9 [==============================] - 91s 10s/step - loss: 2.5336 - accuracy: 0.2921 - val_loss: 2.7828 - val_accuracy: 0.1791\n",
      "Epoch 11/30\n",
      "9/9 [==============================] - 90s 10s/step - loss: 2.4997 - accuracy: 0.2846 - val_loss: 2.8067 - val_accuracy: 0.1493\n",
      "Epoch 12/30\n",
      "9/9 [==============================] - 81s 9s/step - loss: 2.4384 - accuracy: 0.3109 - val_loss: 2.7657 - val_accuracy: 0.1791\n",
      "Epoch 13/30\n",
      "9/9 [==============================] - 76s 9s/step - loss: 2.3977 - accuracy: 0.3296 - val_loss: 2.7508 - val_accuracy: 0.2090\n",
      "Epoch 14/30\n",
      "9/9 [==============================] - 76s 9s/step - loss: 2.3564 - accuracy: 0.3633 - val_loss: 2.7209 - val_accuracy: 0.1940\n",
      "Epoch 15/30\n",
      "9/9 [==============================] - 76s 9s/step - loss: 2.3092 - accuracy: 0.3745 - val_loss: 2.7176 - val_accuracy: 0.1940\n",
      "Epoch 16/30\n",
      "9/9 [==============================] - 75s 9s/step - loss: 2.2636 - accuracy: 0.3933 - val_loss: 2.6586 - val_accuracy: 0.1940\n",
      "Epoch 17/30\n",
      "9/9 [==============================] - 74s 8s/step - loss: 2.2273 - accuracy: 0.4270 - val_loss: 2.6514 - val_accuracy: 0.1791\n",
      "Epoch 18/30\n",
      "9/9 [==============================] - 73s 8s/step - loss: 2.1738 - accuracy: 0.4457 - val_loss: 2.6561 - val_accuracy: 0.2090\n",
      "Epoch 19/30\n",
      "9/9 [==============================] - 76s 9s/step - loss: 2.1301 - accuracy: 0.4419 - val_loss: 2.5824 - val_accuracy: 0.2090\n",
      "Epoch 20/30\n",
      "9/9 [==============================] - 79s 9s/step - loss: 2.0918 - accuracy: 0.4607 - val_loss: 2.6014 - val_accuracy: 0.2239\n",
      "Epoch 21/30\n",
      "9/9 [==============================] - 74s 8s/step - loss: 2.0524 - accuracy: 0.5056 - val_loss: 2.6088 - val_accuracy: 0.2388\n",
      "Epoch 22/30\n",
      "9/9 [==============================] - 74s 8s/step - loss: 2.0230 - accuracy: 0.4607 - val_loss: 2.5741 - val_accuracy: 0.1940\n",
      "Epoch 23/30\n",
      "9/9 [==============================] - 73s 8s/step - loss: 1.9703 - accuracy: 0.5056 - val_loss: 2.5744 - val_accuracy: 0.1642\n",
      "Epoch 24/30\n",
      "9/9 [==============================] - 73s 8s/step - loss: 1.9257 - accuracy: 0.5431 - val_loss: 2.5526 - val_accuracy: 0.2090\n",
      "Epoch 25/30\n",
      "9/9 [==============================] - 73s 8s/step - loss: 1.9141 - accuracy: 0.5131 - val_loss: 2.4931 - val_accuracy: 0.2537\n",
      "Epoch 26/30\n",
      "9/9 [==============================] - 73s 8s/step - loss: 1.8756 - accuracy: 0.5581 - val_loss: 2.5760 - val_accuracy: 0.1642\n",
      "Epoch 27/30\n",
      "9/9 [==============================] - 73s 8s/step - loss: 1.8230 - accuracy: 0.5693 - val_loss: 2.5411 - val_accuracy: 0.2687\n",
      "Epoch 28/30\n",
      "9/9 [==============================] - 73s 8s/step - loss: 1.8120 - accuracy: 0.5243 - val_loss: 2.4871 - val_accuracy: 0.2687\n",
      "Epoch 29/30\n",
      "9/9 [==============================] - 74s 8s/step - loss: 1.7708 - accuracy: 0.5431 - val_loss: 2.5214 - val_accuracy: 0.2239\n",
      "Epoch 30/30\n",
      "9/9 [==============================] - 72s 8s/step - loss: 1.7366 - accuracy: 0.6030 - val_loss: 2.5324 - val_accuracy: 0.2090\n"
     ]
    },
    {
     "data": {
      "text/plain": [
       "<keras.src.callbacks.History at 0x1e7cc64be50>"
      ]
     },
     "execution_count": 42,
     "metadata": {},
     "output_type": "execute_result"
    }
   ],
   "source": [
    "vcg16_model.fit(X_train, y_train, epochs = 30, verbose = 1,validation_data=(X_test,y_test),callbacks=[early_stop])"
   ]
  },
  {
   "cell_type": "code",
   "execution_count": null,
   "id": "3490cf28",
   "metadata": {},
   "outputs": [],
   "source": []
  },
  {
   "cell_type": "code",
   "execution_count": 46,
   "id": "28d10bd0",
   "metadata": {},
   "outputs": [],
   "source": [
    "model=Sequential()\n",
    "model.add(Conv2D(filters=64, kernel_size=(3,3),input_shape=image_shape, activation='relu',))\n",
    "model.add(MaxPooling2D(pool_size=(2, 2)))\n",
    "model.add(BatchNormalization())\n",
    "\n",
    "model.add(Conv2D(filters=128, kernel_size=(3,3), activation='relu'))\n",
    "model.add(MaxPooling2D(pool_size=(2, 2)))\n",
    "model.add(BatchNormalization())\n",
    "\n",
    "model.add(Conv2D(filters=128, kernel_size=(3,3), activation='relu'))\n",
    "model.add(MaxPooling2D(pool_size=(2, 2)))\n",
    "model.add(BatchNormalization())\n",
    "\n",
    "model.add(Conv2D(filters=128, kernel_size=(3,3), activation='relu'))\n",
    "model.add(MaxPooling2D(pool_size=(2, 2)))\n",
    "model.add(BatchNormalization())\n",
    "          \n",
    "model.add(Conv2D(filters=64, kernel_size=(3,3), activation='relu'))\n",
    "model.add(MaxPooling2D(pool_size=(2, 2)))\n",
    "\n",
    "model.add(Flatten())\n",
    "\n",
    "model.add(Dense(64, activation='relu'))\n",
    "model.add(BatchNormalization())\n",
    "\n",
    "model.add(Dense(20, activation='softmax'))\n",
    "\n",
    "model.compile(loss='categorical_crossentropy',\n",
    "              optimizer='adam',\n",
    "              metrics=['accuracy'])"
   ]
  },
  {
   "cell_type": "code",
   "execution_count": 47,
   "id": "7d095285",
   "metadata": {},
   "outputs": [
    {
     "name": "stdout",
     "output_type": "stream",
     "text": [
      "Epoch 1/30\n",
      "9/9 [==============================] - 48s 5s/step - loss: 3.4694 - accuracy: 0.0524 - val_loss: 2.9995 - val_accuracy: 0.0448\n",
      "Epoch 2/30\n",
      "9/9 [==============================] - 42s 5s/step - loss: 2.6033 - accuracy: 0.2397 - val_loss: 3.0433 - val_accuracy: 0.0448\n",
      "Epoch 3/30\n",
      "9/9 [==============================] - 43s 5s/step - loss: 2.1418 - accuracy: 0.3708 - val_loss: 3.0924 - val_accuracy: 0.0746\n",
      "Epoch 4/30\n",
      "9/9 [==============================] - 39s 4s/step - loss: 1.9506 - accuracy: 0.4757 - val_loss: 3.1126 - val_accuracy: 0.0299\n",
      "Epoch 5/30\n",
      "9/9 [==============================] - 47s 5s/step - loss: 1.7641 - accuracy: 0.5281 - val_loss: 3.0737 - val_accuracy: 0.0149\n",
      "Epoch 6/30\n",
      "9/9 [==============================] - 55s 6s/step - loss: 1.4393 - accuracy: 0.6442 - val_loss: 3.3175 - val_accuracy: 0.0448\n",
      "Epoch 7/30\n",
      "9/9 [==============================] - 41s 4s/step - loss: 1.1331 - accuracy: 0.7753 - val_loss: 3.0460 - val_accuracy: 0.0299\n",
      "Epoch 8/30\n",
      "9/9 [==============================] - 40s 4s/step - loss: 0.8731 - accuracy: 0.8839 - val_loss: 3.0149 - val_accuracy: 0.0597\n",
      "Epoch 9/30\n",
      "9/9 [==============================] - 38s 4s/step - loss: 0.6690 - accuracy: 0.9026 - val_loss: 3.1180 - val_accuracy: 0.0448\n",
      "Epoch 10/30\n",
      "9/9 [==============================] - 40s 4s/step - loss: 0.5183 - accuracy: 0.9176 - val_loss: 3.2105 - val_accuracy: 0.0448\n",
      "Epoch 11/30\n",
      "9/9 [==============================] - 38s 4s/step - loss: 0.4843 - accuracy: 0.9176 - val_loss: 3.1186 - val_accuracy: 0.1045\n"
     ]
    },
    {
     "data": {
      "text/plain": [
       "<keras.src.callbacks.History at 0x1e808708410>"
      ]
     },
     "execution_count": 47,
     "metadata": {},
     "output_type": "execute_result"
    }
   ],
   "source": [
    "model.fit(X_train, y_train, epochs = 30, verbose = 1,validation_data=(X_test,y_test),callbacks=[early_stop])"
   ]
  },
  {
   "cell_type": "code",
   "execution_count": 50,
   "id": "e1d6c953",
   "metadata": {
    "collapsed": true
   },
   "outputs": [
    {
     "data": {
      "text/plain": [
       "{'loss': [3.469359874725342,\n",
       "  2.6032848358154297,\n",
       "  2.1418185234069824,\n",
       "  1.9505951404571533,\n",
       "  1.7641491889953613,\n",
       "  1.4392645359039307,\n",
       "  1.1331297159194946,\n",
       "  0.8731326460838318,\n",
       "  0.6689751148223877,\n",
       "  0.5183084011077881,\n",
       "  0.48433247208595276],\n",
       " 'accuracy': [0.05243445560336113,\n",
       "  0.23970037698745728,\n",
       "  0.37078651785850525,\n",
       "  0.4756554365158081,\n",
       "  0.5280898809432983,\n",
       "  0.6441947817802429,\n",
       "  0.7752808928489685,\n",
       "  0.8838951587677002,\n",
       "  0.9026217460632324,\n",
       "  0.9176030158996582,\n",
       "  0.9176030158996582],\n",
       " 'val_loss': [2.999539613723755,\n",
       "  3.043257713317871,\n",
       "  3.0923945903778076,\n",
       "  3.112616539001465,\n",
       "  3.0736560821533203,\n",
       "  3.3174915313720703,\n",
       "  3.0459916591644287,\n",
       "  3.0148978233337402,\n",
       "  3.1180036067962646,\n",
       "  3.210467576980591,\n",
       "  3.1186161041259766],\n",
       " 'val_accuracy': [0.04477611929178238,\n",
       "  0.04477611929178238,\n",
       "  0.0746268630027771,\n",
       "  0.02985074557363987,\n",
       "  0.014925372786819935,\n",
       "  0.04477611929178238,\n",
       "  0.02985074557363987,\n",
       "  0.05970149114727974,\n",
       "  0.04477611929178238,\n",
       "  0.04477611929178238,\n",
       "  0.10447761416435242]}"
      ]
     },
     "execution_count": 50,
     "metadata": {},
     "output_type": "execute_result"
    }
   ],
   "source": [
    "model.history.history"
   ]
  },
  {
   "cell_type": "code",
   "execution_count": 51,
   "id": "11905314",
   "metadata": {},
   "outputs": [
    {
     "data": {
      "text/html": [
       "<div>\n",
       "<style scoped>\n",
       "    .dataframe tbody tr th:only-of-type {\n",
       "        vertical-align: middle;\n",
       "    }\n",
       "\n",
       "    .dataframe tbody tr th {\n",
       "        vertical-align: top;\n",
       "    }\n",
       "\n",
       "    .dataframe thead th {\n",
       "        text-align: right;\n",
       "    }\n",
       "</style>\n",
       "<table border=\"1\" class=\"dataframe\">\n",
       "  <thead>\n",
       "    <tr style=\"text-align: right;\">\n",
       "      <th></th>\n",
       "      <th>loss</th>\n",
       "      <th>accuracy</th>\n",
       "      <th>val_loss</th>\n",
       "      <th>val_accuracy</th>\n",
       "    </tr>\n",
       "  </thead>\n",
       "  <tbody>\n",
       "    <tr>\n",
       "      <th>0</th>\n",
       "      <td>3.469360</td>\n",
       "      <td>0.052434</td>\n",
       "      <td>2.999540</td>\n",
       "      <td>0.044776</td>\n",
       "    </tr>\n",
       "    <tr>\n",
       "      <th>1</th>\n",
       "      <td>2.603285</td>\n",
       "      <td>0.239700</td>\n",
       "      <td>3.043258</td>\n",
       "      <td>0.044776</td>\n",
       "    </tr>\n",
       "    <tr>\n",
       "      <th>2</th>\n",
       "      <td>2.141819</td>\n",
       "      <td>0.370787</td>\n",
       "      <td>3.092395</td>\n",
       "      <td>0.074627</td>\n",
       "    </tr>\n",
       "    <tr>\n",
       "      <th>3</th>\n",
       "      <td>1.950595</td>\n",
       "      <td>0.475655</td>\n",
       "      <td>3.112617</td>\n",
       "      <td>0.029851</td>\n",
       "    </tr>\n",
       "    <tr>\n",
       "      <th>4</th>\n",
       "      <td>1.764149</td>\n",
       "      <td>0.528090</td>\n",
       "      <td>3.073656</td>\n",
       "      <td>0.014925</td>\n",
       "    </tr>\n",
       "    <tr>\n",
       "      <th>5</th>\n",
       "      <td>1.439265</td>\n",
       "      <td>0.644195</td>\n",
       "      <td>3.317492</td>\n",
       "      <td>0.044776</td>\n",
       "    </tr>\n",
       "    <tr>\n",
       "      <th>6</th>\n",
       "      <td>1.133130</td>\n",
       "      <td>0.775281</td>\n",
       "      <td>3.045992</td>\n",
       "      <td>0.029851</td>\n",
       "    </tr>\n",
       "    <tr>\n",
       "      <th>7</th>\n",
       "      <td>0.873133</td>\n",
       "      <td>0.883895</td>\n",
       "      <td>3.014898</td>\n",
       "      <td>0.059701</td>\n",
       "    </tr>\n",
       "    <tr>\n",
       "      <th>8</th>\n",
       "      <td>0.668975</td>\n",
       "      <td>0.902622</td>\n",
       "      <td>3.118004</td>\n",
       "      <td>0.044776</td>\n",
       "    </tr>\n",
       "    <tr>\n",
       "      <th>9</th>\n",
       "      <td>0.518308</td>\n",
       "      <td>0.917603</td>\n",
       "      <td>3.210468</td>\n",
       "      <td>0.044776</td>\n",
       "    </tr>\n",
       "    <tr>\n",
       "      <th>10</th>\n",
       "      <td>0.484332</td>\n",
       "      <td>0.917603</td>\n",
       "      <td>3.118616</td>\n",
       "      <td>0.104478</td>\n",
       "    </tr>\n",
       "  </tbody>\n",
       "</table>\n",
       "</div>"
      ],
      "text/plain": [
       "        loss  accuracy  val_loss  val_accuracy\n",
       "0   3.469360  0.052434  2.999540      0.044776\n",
       "1   2.603285  0.239700  3.043258      0.044776\n",
       "2   2.141819  0.370787  3.092395      0.074627\n",
       "3   1.950595  0.475655  3.112617      0.029851\n",
       "4   1.764149  0.528090  3.073656      0.014925\n",
       "5   1.439265  0.644195  3.317492      0.044776\n",
       "6   1.133130  0.775281  3.045992      0.029851\n",
       "7   0.873133  0.883895  3.014898      0.059701\n",
       "8   0.668975  0.902622  3.118004      0.044776\n",
       "9   0.518308  0.917603  3.210468      0.044776\n",
       "10  0.484332  0.917603  3.118616      0.104478"
      ]
     },
     "execution_count": 51,
     "metadata": {},
     "output_type": "execute_result"
    }
   ],
   "source": [
    "summary = pd.DataFrame(model.history.history)\n",
    "summary.head(15)"
   ]
  },
  {
   "cell_type": "code",
   "execution_count": 52,
   "id": "1be3c076",
   "metadata": {},
   "outputs": [
    {
     "data": {
      "image/png": "[encoded data removed]",
      "text/plain": [
       "<Figure size 1000x600 with 1 Axes>"
      ]
     },
     "metadata": {},
     "output_type": "display_data"
    }
   ],
   "source": [
    "plt.figure(figsize=(10,6))\n",
    "plt.plot(summary.accuracy, label=\"accuracy\")\n",
    "plt.plot(summary.val_accuracy, label=\"val_accuracy\")\n",
    "plt.legend(loc=\"upper left\")\n",
    "plt.ylabel(\"Accuracy\")\n",
    "plt.xlabel(\"Epoch\")\n",
    "plt.show()"
   ]
  },
  {
   "cell_type": "code",
   "execution_count": 62,
   "id": "d2792230",
   "metadata": {},
   "outputs": [
    {
     "name": "stdout",
     "output_type": "stream",
     "text": [
      "[[[255 255 255]\n",
      "  [255 255 255]\n",
      "  [255 255 255]\n",
      "  ...\n",
      "  [255 255 255]\n",
      "  [255 255 255]\n",
      "  [255 255 255]]\n",
      "\n",
      " [[255 255 255]\n",
      "  [255 255 255]\n",
      "  [255 255 255]\n",
      "  ...\n",
      "  [255 255 255]\n",
      "  [255 255 255]\n",
      "  [255 255 255]]\n",
      "\n",
      " [[255 255 255]\n",
      "  [255 255 255]\n",
      "  [255 255 255]\n",
      "  ...\n",
      "  [255 255 255]\n",
      "  [255 255 255]\n",
      "  [255 255 255]]\n",
      "\n",
      " ...\n",
      "\n",
      " [[255 255 255]\n",
      "  [255 255 255]\n",
      "  [255 255 255]\n",
      "  ...\n",
      "  [255 255 255]\n",
      "  [255 255 255]\n",
      "  [255 255 255]]\n",
      "\n",
      " [[255 255 255]\n",
      "  [255 255 255]\n",
      "  [255 255 255]\n",
      "  ...\n",
      "  [255 255 255]\n",
      "  [255 255 255]\n",
      "  [255 255 255]]\n",
      "\n",
      " [[255 255 255]\n",
      "  [255 255 255]\n",
      "  [255 255 255]\n",
      "  ...\n",
      "  [255 255 255]\n",
      "  [255 255 255]\n",
      "  [255 255 255]]]\n"
     ]
    },
    {
     "data": {
      "image/png": "[encoded data removed]",
      "text/plain": [
       "<Figure size 640x480 with 1 Axes>"
      ]
     },
     "metadata": {},
     "output_type": "display_data"
    }
   ],
   "source": [
    "X=[]\n",
    "image=\"images.jpg\"\n",
    "img=cv2.imread(image)\n",
    "print(img)\n",
    "plt.imshow(img)\n",
    "\n",
    "resized_img=cv2.resize(img,(256,256))\n",
    "X.append(resized_img)\n"
   ]
  },
  {
   "cell_type": "code",
   "execution_count": 64,
   "id": "dd6a8565",
   "metadata": {},
   "outputs": [],
   "source": [
    "X=np.array(X).reshape(-1,256,256,3)\n",
    "X=np.array(X)\n",
    "X = X.astype('float32')\n",
    "X/=255"
   ]
  },
  {
   "cell_type": "code",
   "execution_count": 66,
   "id": "65b58016",
   "metadata": {},
   "outputs": [
    {
     "name": "stdout",
     "output_type": "stream",
     "text": [
      "1/1 [==============================] - 0s 35ms/step\n"
     ]
    },
    {
     "data": {
      "text/plain": [
       "5"
      ]
     },
     "execution_count": 66,
     "metadata": {},
     "output_type": "execute_result"
    }
   ],
   "source": [
    "np.argmax(model.predict(X))"
   ]
  },
  {
   "cell_type": "code",
   "execution_count": 67,
   "id": "aa6afdea",
   "metadata": {},
   "outputs": [
    {
     "name": "stdout",
     "output_type": "stream",
     "text": [
      "1/1 [==============================] - 0s 44ms/step\n"
     ]
    },
    {
     "data": {
      "text/plain": [
       "array([[0.02748267, 0.0317934 , 0.02784621, 0.01812479, 0.02325251,\n",
       "        0.15803975, 0.02079683, 0.0746408 , 0.07098775, 0.03821576,\n",
       "        0.04677236, 0.01978131, 0.03158715, 0.12651189, 0.04753069,\n",
       "        0.088896  , 0.0390534 , 0.03170619, 0.02303464, 0.05394593]],\n",
       "      dtype=float32)"
      ]
     },
     "execution_count": 67,
     "metadata": {},
     "output_type": "execute_result"
    }
   ],
   "source": [
    "model.predict(X)"
   ]
  },
  {
   "cell_type": "code",
   "execution_count": 69,
   "id": "e48fb13f",
   "metadata": {},
   "outputs": [
    {
     "data": {
      "text/plain": [
       "array([0., 0., 0., 0., 0., 0., 0., 1., 0., 0., 0., 0., 0., 0., 0., 0., 0.,\n",
       "       0., 0., 0.], dtype=float32)"
      ]
     },
     "execution_count": 69,
     "metadata": {},
     "output_type": "execute_result"
    }
   ],
   "source": [
    "Y[0]"
   ]
  },
  {
   "cell_type": "code",
   "execution_count": 71,
   "id": "35af7ad8",
   "metadata": {},
   "outputs": [],
   "source": [
    "y=pd.DataFrame(Y)"
   ]
  },
  {
   "cell_type": "code",
   "execution_count": 72,
   "id": "68cc37d2",
   "metadata": {},
   "outputs": [
    {
     "data": {
      "text/html": [
       "<div>\n",
       "<style scoped>\n",
       "    .dataframe tbody tr th:only-of-type {\n",
       "        vertical-align: middle;\n",
       "    }\n",
       "\n",
       "    .dataframe tbody tr th {\n",
       "        vertical-align: top;\n",
       "    }\n",
       "\n",
       "    .dataframe thead th {\n",
       "        text-align: right;\n",
       "    }\n",
       "</style>\n",
       "<table border=\"1\" class=\"dataframe\">\n",
       "  <thead>\n",
       "    <tr style=\"text-align: right;\">\n",
       "      <th></th>\n",
       "      <th>0</th>\n",
       "      <th>1</th>\n",
       "      <th>2</th>\n",
       "      <th>3</th>\n",
       "      <th>4</th>\n",
       "      <th>5</th>\n",
       "      <th>6</th>\n",
       "      <th>7</th>\n",
       "      <th>8</th>\n",
       "      <th>9</th>\n",
       "      <th>10</th>\n",
       "      <th>11</th>\n",
       "      <th>12</th>\n",
       "      <th>13</th>\n",
       "      <th>14</th>\n",
       "      <th>15</th>\n",
       "      <th>16</th>\n",
       "      <th>17</th>\n",
       "      <th>18</th>\n",
       "      <th>19</th>\n",
       "    </tr>\n",
       "  </thead>\n",
       "  <tbody>\n",
       "    <tr>\n",
       "      <th>0</th>\n",
       "      <td>0.0</td>\n",
       "      <td>0.0</td>\n",
       "      <td>0.0</td>\n",
       "      <td>0.0</td>\n",
       "      <td>0.0</td>\n",
       "      <td>0.0</td>\n",
       "      <td>0.0</td>\n",
       "      <td>1.0</td>\n",
       "      <td>0.0</td>\n",
       "      <td>0.0</td>\n",
       "      <td>0.0</td>\n",
       "      <td>0.0</td>\n",
       "      <td>0.0</td>\n",
       "      <td>0.0</td>\n",
       "      <td>0.0</td>\n",
       "      <td>0.0</td>\n",
       "      <td>0.0</td>\n",
       "      <td>0.0</td>\n",
       "      <td>0.0</td>\n",
       "      <td>0.0</td>\n",
       "    </tr>\n",
       "    <tr>\n",
       "      <th>1</th>\n",
       "      <td>0.0</td>\n",
       "      <td>0.0</td>\n",
       "      <td>0.0</td>\n",
       "      <td>0.0</td>\n",
       "      <td>0.0</td>\n",
       "      <td>0.0</td>\n",
       "      <td>0.0</td>\n",
       "      <td>1.0</td>\n",
       "      <td>0.0</td>\n",
       "      <td>0.0</td>\n",
       "      <td>0.0</td>\n",
       "      <td>0.0</td>\n",
       "      <td>0.0</td>\n",
       "      <td>0.0</td>\n",
       "      <td>0.0</td>\n",
       "      <td>0.0</td>\n",
       "      <td>0.0</td>\n",
       "      <td>0.0</td>\n",
       "      <td>0.0</td>\n",
       "      <td>0.0</td>\n",
       "    </tr>\n",
       "    <tr>\n",
       "      <th>2</th>\n",
       "      <td>0.0</td>\n",
       "      <td>0.0</td>\n",
       "      <td>0.0</td>\n",
       "      <td>0.0</td>\n",
       "      <td>0.0</td>\n",
       "      <td>0.0</td>\n",
       "      <td>0.0</td>\n",
       "      <td>0.0</td>\n",
       "      <td>0.0</td>\n",
       "      <td>0.0</td>\n",
       "      <td>0.0</td>\n",
       "      <td>0.0</td>\n",
       "      <td>0.0</td>\n",
       "      <td>0.0</td>\n",
       "      <td>0.0</td>\n",
       "      <td>0.0</td>\n",
       "      <td>1.0</td>\n",
       "      <td>0.0</td>\n",
       "      <td>0.0</td>\n",
       "      <td>0.0</td>\n",
       "    </tr>\n",
       "    <tr>\n",
       "      <th>3</th>\n",
       "      <td>0.0</td>\n",
       "      <td>0.0</td>\n",
       "      <td>0.0</td>\n",
       "      <td>0.0</td>\n",
       "      <td>0.0</td>\n",
       "      <td>0.0</td>\n",
       "      <td>0.0</td>\n",
       "      <td>0.0</td>\n",
       "      <td>0.0</td>\n",
       "      <td>0.0</td>\n",
       "      <td>0.0</td>\n",
       "      <td>0.0</td>\n",
       "      <td>1.0</td>\n",
       "      <td>0.0</td>\n",
       "      <td>0.0</td>\n",
       "      <td>0.0</td>\n",
       "      <td>0.0</td>\n",
       "      <td>0.0</td>\n",
       "      <td>0.0</td>\n",
       "      <td>0.0</td>\n",
       "    </tr>\n",
       "    <tr>\n",
       "      <th>4</th>\n",
       "      <td>0.0</td>\n",
       "      <td>1.0</td>\n",
       "      <td>0.0</td>\n",
       "      <td>0.0</td>\n",
       "      <td>0.0</td>\n",
       "      <td>0.0</td>\n",
       "      <td>0.0</td>\n",
       "      <td>0.0</td>\n",
       "      <td>0.0</td>\n",
       "      <td>0.0</td>\n",
       "      <td>0.0</td>\n",
       "      <td>0.0</td>\n",
       "      <td>0.0</td>\n",
       "      <td>0.0</td>\n",
       "      <td>0.0</td>\n",
       "      <td>0.0</td>\n",
       "      <td>0.0</td>\n",
       "      <td>0.0</td>\n",
       "      <td>0.0</td>\n",
       "      <td>0.0</td>\n",
       "    </tr>\n",
       "    <tr>\n",
       "      <th>...</th>\n",
       "      <td>...</td>\n",
       "      <td>...</td>\n",
       "      <td>...</td>\n",
       "      <td>...</td>\n",
       "      <td>...</td>\n",
       "      <td>...</td>\n",
       "      <td>...</td>\n",
       "      <td>...</td>\n",
       "      <td>...</td>\n",
       "      <td>...</td>\n",
       "      <td>...</td>\n",
       "      <td>...</td>\n",
       "      <td>...</td>\n",
       "      <td>...</td>\n",
       "      <td>...</td>\n",
       "      <td>...</td>\n",
       "      <td>...</td>\n",
       "      <td>...</td>\n",
       "      <td>...</td>\n",
       "      <td>...</td>\n",
       "    </tr>\n",
       "    <tr>\n",
       "      <th>329</th>\n",
       "      <td>0.0</td>\n",
       "      <td>0.0</td>\n",
       "      <td>0.0</td>\n",
       "      <td>0.0</td>\n",
       "      <td>1.0</td>\n",
       "      <td>0.0</td>\n",
       "      <td>0.0</td>\n",
       "      <td>0.0</td>\n",
       "      <td>0.0</td>\n",
       "      <td>0.0</td>\n",
       "      <td>0.0</td>\n",
       "      <td>0.0</td>\n",
       "      <td>0.0</td>\n",
       "      <td>0.0</td>\n",
       "      <td>0.0</td>\n",
       "      <td>0.0</td>\n",
       "      <td>0.0</td>\n",
       "      <td>0.0</td>\n",
       "      <td>0.0</td>\n",
       "      <td>0.0</td>\n",
       "    </tr>\n",
       "    <tr>\n",
       "      <th>330</th>\n",
       "      <td>0.0</td>\n",
       "      <td>0.0</td>\n",
       "      <td>0.0</td>\n",
       "      <td>0.0</td>\n",
       "      <td>0.0</td>\n",
       "      <td>0.0</td>\n",
       "      <td>0.0</td>\n",
       "      <td>1.0</td>\n",
       "      <td>0.0</td>\n",
       "      <td>0.0</td>\n",
       "      <td>0.0</td>\n",
       "      <td>0.0</td>\n",
       "      <td>0.0</td>\n",
       "      <td>0.0</td>\n",
       "      <td>0.0</td>\n",
       "      <td>0.0</td>\n",
       "      <td>0.0</td>\n",
       "      <td>0.0</td>\n",
       "      <td>0.0</td>\n",
       "      <td>0.0</td>\n",
       "    </tr>\n",
       "    <tr>\n",
       "      <th>331</th>\n",
       "      <td>0.0</td>\n",
       "      <td>0.0</td>\n",
       "      <td>0.0</td>\n",
       "      <td>0.0</td>\n",
       "      <td>0.0</td>\n",
       "      <td>1.0</td>\n",
       "      <td>0.0</td>\n",
       "      <td>0.0</td>\n",
       "      <td>0.0</td>\n",
       "      <td>0.0</td>\n",
       "      <td>0.0</td>\n",
       "      <td>0.0</td>\n",
       "      <td>0.0</td>\n",
       "      <td>0.0</td>\n",
       "      <td>0.0</td>\n",
       "      <td>0.0</td>\n",
       "      <td>0.0</td>\n",
       "      <td>0.0</td>\n",
       "      <td>0.0</td>\n",
       "      <td>0.0</td>\n",
       "    </tr>\n",
       "    <tr>\n",
       "      <th>332</th>\n",
       "      <td>0.0</td>\n",
       "      <td>0.0</td>\n",
       "      <td>0.0</td>\n",
       "      <td>0.0</td>\n",
       "      <td>1.0</td>\n",
       "      <td>0.0</td>\n",
       "      <td>0.0</td>\n",
       "      <td>0.0</td>\n",
       "      <td>0.0</td>\n",
       "      <td>0.0</td>\n",
       "      <td>0.0</td>\n",
       "      <td>0.0</td>\n",
       "      <td>0.0</td>\n",
       "      <td>0.0</td>\n",
       "      <td>0.0</td>\n",
       "      <td>0.0</td>\n",
       "      <td>0.0</td>\n",
       "      <td>0.0</td>\n",
       "      <td>0.0</td>\n",
       "      <td>0.0</td>\n",
       "    </tr>\n",
       "    <tr>\n",
       "      <th>333</th>\n",
       "      <td>0.0</td>\n",
       "      <td>0.0</td>\n",
       "      <td>0.0</td>\n",
       "      <td>0.0</td>\n",
       "      <td>0.0</td>\n",
       "      <td>0.0</td>\n",
       "      <td>0.0</td>\n",
       "      <td>0.0</td>\n",
       "      <td>0.0</td>\n",
       "      <td>0.0</td>\n",
       "      <td>1.0</td>\n",
       "      <td>0.0</td>\n",
       "      <td>0.0</td>\n",
       "      <td>0.0</td>\n",
       "      <td>0.0</td>\n",
       "      <td>0.0</td>\n",
       "      <td>0.0</td>\n",
       "      <td>0.0</td>\n",
       "      <td>0.0</td>\n",
       "      <td>0.0</td>\n",
       "    </tr>\n",
       "  </tbody>\n",
       "</table>\n",
       "<p>334 rows × 20 columns</p>\n",
       "</div>"
      ],
      "text/plain": [
       "      0    1    2    3    4    5    6    7    8    9    10   11   12   13  \\\n",
       "0    0.0  0.0  0.0  0.0  0.0  0.0  0.0  1.0  0.0  0.0  0.0  0.0  0.0  0.0   \n",
       "1    0.0  0.0  0.0  0.0  0.0  0.0  0.0  1.0  0.0  0.0  0.0  0.0  0.0  0.0   \n",
       "2    0.0  0.0  0.0  0.0  0.0  0.0  0.0  0.0  0.0  0.0  0.0  0.0  0.0  0.0   \n",
       "3    0.0  0.0  0.0  0.0  0.0  0.0  0.0  0.0  0.0  0.0  0.0  0.0  1.0  0.0   \n",
       "4    0.0  1.0  0.0  0.0  0.0  0.0  0.0  0.0  0.0  0.0  0.0  0.0  0.0  0.0   \n",
       "..   ...  ...  ...  ...  ...  ...  ...  ...  ...  ...  ...  ...  ...  ...   \n",
       "329  0.0  0.0  0.0  0.0  1.0  0.0  0.0  0.0  0.0  0.0  0.0  0.0  0.0  0.0   \n",
       "330  0.0  0.0  0.0  0.0  0.0  0.0  0.0  1.0  0.0  0.0  0.0  0.0  0.0  0.0   \n",
       "331  0.0  0.0  0.0  0.0  0.0  1.0  0.0  0.0  0.0  0.0  0.0  0.0  0.0  0.0   \n",
       "332  0.0  0.0  0.0  0.0  1.0  0.0  0.0  0.0  0.0  0.0  0.0  0.0  0.0  0.0   \n",
       "333  0.0  0.0  0.0  0.0  0.0  0.0  0.0  0.0  0.0  0.0  1.0  0.0  0.0  0.0   \n",
       "\n",
       "      14   15   16   17   18   19  \n",
       "0    0.0  0.0  0.0  0.0  0.0  0.0  \n",
       "1    0.0  0.0  0.0  0.0  0.0  0.0  \n",
       "2    0.0  0.0  1.0  0.0  0.0  0.0  \n",
       "3    0.0  0.0  0.0  0.0  0.0  0.0  \n",
       "4    0.0  0.0  0.0  0.0  0.0  0.0  \n",
       "..   ...  ...  ...  ...  ...  ...  \n",
       "329  0.0  0.0  0.0  0.0  0.0  0.0  \n",
       "330  0.0  0.0  0.0  0.0  0.0  0.0  \n",
       "331  0.0  0.0  0.0  0.0  0.0  0.0  \n",
       "332  0.0  0.0  0.0  0.0  0.0  0.0  \n",
       "333  0.0  0.0  0.0  0.0  0.0  0.0  \n",
       "\n",
       "[334 rows x 20 columns]"
      ]
     },
     "execution_count": 72,
     "metadata": {},
     "output_type": "execute_result"
    }
   ],
   "source": [
    "y"
   ]
  },
  {
   "cell_type": "code",
   "execution_count": 79,
   "id": "bf29447b",
   "metadata": {},
   "outputs": [
    {
     "data": {
      "text/plain": [
       "0\n",
       "0.0    318\n",
       "1.0     16\n",
       "Name: count, dtype: int64"
      ]
     },
     "execution_count": 79,
     "metadata": {},
     "output_type": "execute_result"
    }
   ],
   "source": [
    "y[0].value_counts()"
   ]
  },
  {
   "cell_type": "code",
   "execution_count": 94,
   "id": "177c778d",
   "metadata": {},
   "outputs": [
    {
     "name": "stdout",
     "output_type": "stream",
     "text": [
      "nine\n"
     ]
    },
    {
     "data": {
      "image/png": "[encoded data removed]",
      "text/plain": [
       "<Figure size 640x480 with 1 Axes>"
      ]
     },
     "metadata": {},
     "output_type": "display_data"
    }
   ],
   "source": [
    "img=data[0][0]\n",
    "plt.imshow(img)\n",
    "print(data[0][1])"
   ]
  },
  {
   "cell_type": "code",
   "execution_count": 101,
   "id": "e8823049",
   "metadata": {},
   "outputs": [
    {
     "data": {
      "image/png": "[encoded data removed]",
      "text/plain": [
       "<Figure size 640x480 with 1 Axes>"
      ]
     },
     "metadata": {},
     "output_type": "display_data"
    }
   ],
   "source": [
    "img=img\n",
    "\n",
    "X=[]\n",
    "resized_img=cv2.resize(img,(256,256))\n",
    "X.append(resized_img)"
   ]
  },
  {
   "cell_type": "code",
   "execution_count": 105,
   "id": "b3756ae6",
   "metadata": {},
   "outputs": [
    {
     "ename": "TypeError",
     "evalue": "Invalid shape (1, 256, 256, 3) for image data",
     "output_type": "error",
     "traceback": [
      "\u001b[1;31m---------------------------------------------------------------------------\u001b[0m",
      "\u001b[1;31mTypeError\u001b[0m                                 Traceback (most recent call last)",
      "Cell \u001b[1;32mIn[105], line 5\u001b[0m\n\u001b[0;32m      1\u001b[0m X\u001b[38;5;241m=\u001b[39mnp\u001b[38;5;241m.\u001b[39marray(X)\u001b[38;5;241m.\u001b[39mreshape(\u001b[38;5;241m-\u001b[39m\u001b[38;5;241m1\u001b[39m,\u001b[38;5;241m256\u001b[39m,\u001b[38;5;241m256\u001b[39m,\u001b[38;5;241m3\u001b[39m)\n\u001b[0;32m      3\u001b[0m X\u001b[38;5;241m=\u001b[39mnp\u001b[38;5;241m.\u001b[39marray(X)\n\u001b[1;32m----> 5\u001b[0m \u001b[43mplt\u001b[49m\u001b[38;5;241;43m.\u001b[39;49m\u001b[43mimshow\u001b[49m\u001b[43m(\u001b[49m\u001b[43mX\u001b[49m\u001b[43m)\u001b[49m\n\u001b[0;32m      6\u001b[0m X\u001b[38;5;241m/\u001b[39m\u001b[38;5;241m=\u001b[39m\u001b[38;5;241m255\u001b[39m\n",
      "File \u001b[1;32m~\\AppData\\Local\\Programs\\Python\\Python311\\Lib\\site-packages\\matplotlib\\pyplot.py:2695\u001b[0m, in \u001b[0;36mimshow\u001b[1;34m(X, cmap, norm, aspect, interpolation, alpha, vmin, vmax, origin, extent, interpolation_stage, filternorm, filterrad, resample, url, data, **kwargs)\u001b[0m\n\u001b[0;32m   2689\u001b[0m \u001b[38;5;129m@_copy_docstring_and_deprecators\u001b[39m(Axes\u001b[38;5;241m.\u001b[39mimshow)\n\u001b[0;32m   2690\u001b[0m \u001b[38;5;28;01mdef\u001b[39;00m \u001b[38;5;21mimshow\u001b[39m(\n\u001b[0;32m   2691\u001b[0m         X, cmap\u001b[38;5;241m=\u001b[39m\u001b[38;5;28;01mNone\u001b[39;00m, norm\u001b[38;5;241m=\u001b[39m\u001b[38;5;28;01mNone\u001b[39;00m, \u001b[38;5;241m*\u001b[39m, aspect\u001b[38;5;241m=\u001b[39m\u001b[38;5;28;01mNone\u001b[39;00m, interpolation\u001b[38;5;241m=\u001b[39m\u001b[38;5;28;01mNone\u001b[39;00m,\n\u001b[0;32m   2692\u001b[0m         alpha\u001b[38;5;241m=\u001b[39m\u001b[38;5;28;01mNone\u001b[39;00m, vmin\u001b[38;5;241m=\u001b[39m\u001b[38;5;28;01mNone\u001b[39;00m, vmax\u001b[38;5;241m=\u001b[39m\u001b[38;5;28;01mNone\u001b[39;00m, origin\u001b[38;5;241m=\u001b[39m\u001b[38;5;28;01mNone\u001b[39;00m, extent\u001b[38;5;241m=\u001b[39m\u001b[38;5;28;01mNone\u001b[39;00m,\n\u001b[0;32m   2693\u001b[0m         interpolation_stage\u001b[38;5;241m=\u001b[39m\u001b[38;5;28;01mNone\u001b[39;00m, filternorm\u001b[38;5;241m=\u001b[39m\u001b[38;5;28;01mTrue\u001b[39;00m, filterrad\u001b[38;5;241m=\u001b[39m\u001b[38;5;241m4.0\u001b[39m,\n\u001b[0;32m   2694\u001b[0m         resample\u001b[38;5;241m=\u001b[39m\u001b[38;5;28;01mNone\u001b[39;00m, url\u001b[38;5;241m=\u001b[39m\u001b[38;5;28;01mNone\u001b[39;00m, data\u001b[38;5;241m=\u001b[39m\u001b[38;5;28;01mNone\u001b[39;00m, \u001b[38;5;241m*\u001b[39m\u001b[38;5;241m*\u001b[39mkwargs):\n\u001b[1;32m-> 2695\u001b[0m     __ret \u001b[38;5;241m=\u001b[39m \u001b[43mgca\u001b[49m\u001b[43m(\u001b[49m\u001b[43m)\u001b[49m\u001b[38;5;241;43m.\u001b[39;49m\u001b[43mimshow\u001b[49m\u001b[43m(\u001b[49m\n\u001b[0;32m   2696\u001b[0m \u001b[43m        \u001b[49m\u001b[43mX\u001b[49m\u001b[43m,\u001b[49m\u001b[43m \u001b[49m\u001b[43mcmap\u001b[49m\u001b[38;5;241;43m=\u001b[39;49m\u001b[43mcmap\u001b[49m\u001b[43m,\u001b[49m\u001b[43m \u001b[49m\u001b[43mnorm\u001b[49m\u001b[38;5;241;43m=\u001b[39;49m\u001b[43mnorm\u001b[49m\u001b[43m,\u001b[49m\u001b[43m \u001b[49m\u001b[43maspect\u001b[49m\u001b[38;5;241;43m=\u001b[39;49m\u001b[43maspect\u001b[49m\u001b[43m,\u001b[49m\n\u001b[0;32m   2697\u001b[0m \u001b[43m        \u001b[49m\u001b[43minterpolation\u001b[49m\u001b[38;5;241;43m=\u001b[39;49m\u001b[43minterpolation\u001b[49m\u001b[43m,\u001b[49m\u001b[43m \u001b[49m\u001b[43malpha\u001b[49m\u001b[38;5;241;43m=\u001b[39;49m\u001b[43malpha\u001b[49m\u001b[43m,\u001b[49m\u001b[43m \u001b[49m\u001b[43mvmin\u001b[49m\u001b[38;5;241;43m=\u001b[39;49m\u001b[43mvmin\u001b[49m\u001b[43m,\u001b[49m\n\u001b[0;32m   2698\u001b[0m \u001b[43m        \u001b[49m\u001b[43mvmax\u001b[49m\u001b[38;5;241;43m=\u001b[39;49m\u001b[43mvmax\u001b[49m\u001b[43m,\u001b[49m\u001b[43m \u001b[49m\u001b[43morigin\u001b[49m\u001b[38;5;241;43m=\u001b[39;49m\u001b[43morigin\u001b[49m\u001b[43m,\u001b[49m\u001b[43m \u001b[49m\u001b[43mextent\u001b[49m\u001b[38;5;241;43m=\u001b[39;49m\u001b[43mextent\u001b[49m\u001b[43m,\u001b[49m\n\u001b[0;32m   2699\u001b[0m \u001b[43m        \u001b[49m\u001b[43minterpolation_stage\u001b[49m\u001b[38;5;241;43m=\u001b[39;49m\u001b[43minterpolation_stage\u001b[49m\u001b[43m,\u001b[49m\n\u001b[0;32m   2700\u001b[0m \u001b[43m        \u001b[49m\u001b[43mfilternorm\u001b[49m\u001b[38;5;241;43m=\u001b[39;49m\u001b[43mfilternorm\u001b[49m\u001b[43m,\u001b[49m\u001b[43m \u001b[49m\u001b[43mfilterrad\u001b[49m\u001b[38;5;241;43m=\u001b[39;49m\u001b[43mfilterrad\u001b[49m\u001b[43m,\u001b[49m\u001b[43m \u001b[49m\u001b[43mresample\u001b[49m\u001b[38;5;241;43m=\u001b[39;49m\u001b[43mresample\u001b[49m\u001b[43m,\u001b[49m\n\u001b[0;32m   2701\u001b[0m \u001b[43m        \u001b[49m\u001b[43murl\u001b[49m\u001b[38;5;241;43m=\u001b[39;49m\u001b[43murl\u001b[49m\u001b[43m,\u001b[49m\u001b[43m \u001b[49m\u001b[38;5;241;43m*\u001b[39;49m\u001b[38;5;241;43m*\u001b[39;49m\u001b[43m(\u001b[49m\u001b[43m{\u001b[49m\u001b[38;5;124;43m\"\u001b[39;49m\u001b[38;5;124;43mdata\u001b[39;49m\u001b[38;5;124;43m\"\u001b[39;49m\u001b[43m:\u001b[49m\u001b[43m \u001b[49m\u001b[43mdata\u001b[49m\u001b[43m}\u001b[49m\u001b[43m \u001b[49m\u001b[38;5;28;43;01mif\u001b[39;49;00m\u001b[43m \u001b[49m\u001b[43mdata\u001b[49m\u001b[43m \u001b[49m\u001b[38;5;129;43;01mis\u001b[39;49;00m\u001b[43m \u001b[49m\u001b[38;5;129;43;01mnot\u001b[39;49;00m\u001b[43m \u001b[49m\u001b[38;5;28;43;01mNone\u001b[39;49;00m\u001b[43m \u001b[49m\u001b[38;5;28;43;01melse\u001b[39;49;00m\u001b[43m \u001b[49m\u001b[43m{\u001b[49m\u001b[43m}\u001b[49m\u001b[43m)\u001b[49m\u001b[43m,\u001b[49m\n\u001b[0;32m   2702\u001b[0m \u001b[43m        \u001b[49m\u001b[38;5;241;43m*\u001b[39;49m\u001b[38;5;241;43m*\u001b[39;49m\u001b[43mkwargs\u001b[49m\u001b[43m)\u001b[49m\n\u001b[0;32m   2703\u001b[0m     sci(__ret)\n\u001b[0;32m   2704\u001b[0m     \u001b[38;5;28;01mreturn\u001b[39;00m __ret\n",
      "File \u001b[1;32m~\\AppData\\Local\\Programs\\Python\\Python311\\Lib\\site-packages\\matplotlib\\__init__.py:1461\u001b[0m, in \u001b[0;36m_preprocess_data.<locals>.inner\u001b[1;34m(ax, data, *args, **kwargs)\u001b[0m\n\u001b[0;32m   1458\u001b[0m \u001b[38;5;129m@functools\u001b[39m\u001b[38;5;241m.\u001b[39mwraps(func)\n\u001b[0;32m   1459\u001b[0m \u001b[38;5;28;01mdef\u001b[39;00m \u001b[38;5;21minner\u001b[39m(ax, \u001b[38;5;241m*\u001b[39margs, data\u001b[38;5;241m=\u001b[39m\u001b[38;5;28;01mNone\u001b[39;00m, \u001b[38;5;241m*\u001b[39m\u001b[38;5;241m*\u001b[39mkwargs):\n\u001b[0;32m   1460\u001b[0m     \u001b[38;5;28;01mif\u001b[39;00m data \u001b[38;5;129;01mis\u001b[39;00m \u001b[38;5;28;01mNone\u001b[39;00m:\n\u001b[1;32m-> 1461\u001b[0m         \u001b[38;5;28;01mreturn\u001b[39;00m \u001b[43mfunc\u001b[49m\u001b[43m(\u001b[49m\u001b[43max\u001b[49m\u001b[43m,\u001b[49m\u001b[43m \u001b[49m\u001b[38;5;241;43m*\u001b[39;49m\u001b[38;5;28;43mmap\u001b[39;49m\u001b[43m(\u001b[49m\u001b[43msanitize_sequence\u001b[49m\u001b[43m,\u001b[49m\u001b[43m \u001b[49m\u001b[43margs\u001b[49m\u001b[43m)\u001b[49m\u001b[43m,\u001b[49m\u001b[43m \u001b[49m\u001b[38;5;241;43m*\u001b[39;49m\u001b[38;5;241;43m*\u001b[39;49m\u001b[43mkwargs\u001b[49m\u001b[43m)\u001b[49m\n\u001b[0;32m   1463\u001b[0m     bound \u001b[38;5;241m=\u001b[39m new_sig\u001b[38;5;241m.\u001b[39mbind(ax, \u001b[38;5;241m*\u001b[39margs, \u001b[38;5;241m*\u001b[39m\u001b[38;5;241m*\u001b[39mkwargs)\n\u001b[0;32m   1464\u001b[0m     auto_label \u001b[38;5;241m=\u001b[39m (bound\u001b[38;5;241m.\u001b[39marguments\u001b[38;5;241m.\u001b[39mget(label_namer)\n\u001b[0;32m   1465\u001b[0m                   \u001b[38;5;129;01mor\u001b[39;00m bound\u001b[38;5;241m.\u001b[39mkwargs\u001b[38;5;241m.\u001b[39mget(label_namer))\n",
      "File \u001b[1;32m~\\AppData\\Local\\Programs\\Python\\Python311\\Lib\\site-packages\\matplotlib\\axes\\_axes.py:5663\u001b[0m, in \u001b[0;36mAxes.imshow\u001b[1;34m(self, X, cmap, norm, aspect, interpolation, alpha, vmin, vmax, origin, extent, interpolation_stage, filternorm, filterrad, resample, url, **kwargs)\u001b[0m\n\u001b[0;32m   5655\u001b[0m \u001b[38;5;28mself\u001b[39m\u001b[38;5;241m.\u001b[39mset_aspect(aspect)\n\u001b[0;32m   5656\u001b[0m im \u001b[38;5;241m=\u001b[39m mimage\u001b[38;5;241m.\u001b[39mAxesImage(\u001b[38;5;28mself\u001b[39m, cmap\u001b[38;5;241m=\u001b[39mcmap, norm\u001b[38;5;241m=\u001b[39mnorm,\n\u001b[0;32m   5657\u001b[0m                       interpolation\u001b[38;5;241m=\u001b[39minterpolation, origin\u001b[38;5;241m=\u001b[39morigin,\n\u001b[0;32m   5658\u001b[0m                       extent\u001b[38;5;241m=\u001b[39mextent, filternorm\u001b[38;5;241m=\u001b[39mfilternorm,\n\u001b[0;32m   5659\u001b[0m                       filterrad\u001b[38;5;241m=\u001b[39mfilterrad, resample\u001b[38;5;241m=\u001b[39mresample,\n\u001b[0;32m   5660\u001b[0m                       interpolation_stage\u001b[38;5;241m=\u001b[39minterpolation_stage,\n\u001b[0;32m   5661\u001b[0m                       \u001b[38;5;241m*\u001b[39m\u001b[38;5;241m*\u001b[39mkwargs)\n\u001b[1;32m-> 5663\u001b[0m \u001b[43mim\u001b[49m\u001b[38;5;241;43m.\u001b[39;49m\u001b[43mset_data\u001b[49m\u001b[43m(\u001b[49m\u001b[43mX\u001b[49m\u001b[43m)\u001b[49m\n\u001b[0;32m   5664\u001b[0m im\u001b[38;5;241m.\u001b[39mset_alpha(alpha)\n\u001b[0;32m   5665\u001b[0m \u001b[38;5;28;01mif\u001b[39;00m im\u001b[38;5;241m.\u001b[39mget_clip_path() \u001b[38;5;129;01mis\u001b[39;00m \u001b[38;5;28;01mNone\u001b[39;00m:\n\u001b[0;32m   5666\u001b[0m     \u001b[38;5;66;03m# image does not already have clipping set, clip to axes patch\u001b[39;00m\n",
      "File \u001b[1;32m~\\AppData\\Local\\Programs\\Python\\Python311\\Lib\\site-packages\\matplotlib\\image.py:710\u001b[0m, in \u001b[0;36m_ImageBase.set_data\u001b[1;34m(self, A)\u001b[0m\n\u001b[0;32m    706\u001b[0m     \u001b[38;5;28mself\u001b[39m\u001b[38;5;241m.\u001b[39m_A \u001b[38;5;241m=\u001b[39m \u001b[38;5;28mself\u001b[39m\u001b[38;5;241m.\u001b[39m_A[:, :, \u001b[38;5;241m0\u001b[39m]\n\u001b[0;32m    708\u001b[0m \u001b[38;5;28;01mif\u001b[39;00m \u001b[38;5;129;01mnot\u001b[39;00m (\u001b[38;5;28mself\u001b[39m\u001b[38;5;241m.\u001b[39m_A\u001b[38;5;241m.\u001b[39mndim \u001b[38;5;241m==\u001b[39m \u001b[38;5;241m2\u001b[39m\n\u001b[0;32m    709\u001b[0m         \u001b[38;5;129;01mor\u001b[39;00m \u001b[38;5;28mself\u001b[39m\u001b[38;5;241m.\u001b[39m_A\u001b[38;5;241m.\u001b[39mndim \u001b[38;5;241m==\u001b[39m \u001b[38;5;241m3\u001b[39m \u001b[38;5;129;01mand\u001b[39;00m \u001b[38;5;28mself\u001b[39m\u001b[38;5;241m.\u001b[39m_A\u001b[38;5;241m.\u001b[39mshape[\u001b[38;5;241m-\u001b[39m\u001b[38;5;241m1\u001b[39m] \u001b[38;5;129;01min\u001b[39;00m [\u001b[38;5;241m3\u001b[39m, \u001b[38;5;241m4\u001b[39m]):\n\u001b[1;32m--> 710\u001b[0m     \u001b[38;5;28;01mraise\u001b[39;00m \u001b[38;5;167;01mTypeError\u001b[39;00m(\u001b[38;5;124m\"\u001b[39m\u001b[38;5;124mInvalid shape \u001b[39m\u001b[38;5;132;01m{}\u001b[39;00m\u001b[38;5;124m for image data\u001b[39m\u001b[38;5;124m\"\u001b[39m\n\u001b[0;32m    711\u001b[0m                     \u001b[38;5;241m.\u001b[39mformat(\u001b[38;5;28mself\u001b[39m\u001b[38;5;241m.\u001b[39m_A\u001b[38;5;241m.\u001b[39mshape))\n\u001b[0;32m    713\u001b[0m \u001b[38;5;28;01mif\u001b[39;00m \u001b[38;5;28mself\u001b[39m\u001b[38;5;241m.\u001b[39m_A\u001b[38;5;241m.\u001b[39mndim \u001b[38;5;241m==\u001b[39m \u001b[38;5;241m3\u001b[39m:\n\u001b[0;32m    714\u001b[0m     \u001b[38;5;66;03m# If the input data has values outside the valid range (after\u001b[39;00m\n\u001b[0;32m    715\u001b[0m     \u001b[38;5;66;03m# normalisation), we issue a warning and then clip X to the bounds\u001b[39;00m\n\u001b[0;32m    716\u001b[0m     \u001b[38;5;66;03m# - otherwise casting wraps extreme values, hiding outliers and\u001b[39;00m\n\u001b[0;32m    717\u001b[0m     \u001b[38;5;66;03m# making reliable interpretation impossible.\u001b[39;00m\n\u001b[0;32m    718\u001b[0m     high \u001b[38;5;241m=\u001b[39m \u001b[38;5;241m255\u001b[39m \u001b[38;5;28;01mif\u001b[39;00m np\u001b[38;5;241m.\u001b[39missubdtype(\u001b[38;5;28mself\u001b[39m\u001b[38;5;241m.\u001b[39m_A\u001b[38;5;241m.\u001b[39mdtype, np\u001b[38;5;241m.\u001b[39minteger) \u001b[38;5;28;01melse\u001b[39;00m \u001b[38;5;241m1\u001b[39m\n",
      "\u001b[1;31mTypeError\u001b[0m: Invalid shape (1, 256, 256, 3) for image data"
     ]
    },
    {
     "data": {
      "image/png": "[encoded data removed]",
      "text/plain": [
       "<Figure size 640x480 with 1 Axes>"
      ]
     },
     "metadata": {},
     "output_type": "display_data"
    }
   ],
   "source": [
    "X=np.array(X).reshape(-1,256,256,3)\n",
    "\n",
    "X=np.array(X)\n",
    "\n",
    "plt.imshow(X)\n",
    "X/=255"
   ]
  },
  {
   "cell_type": "code",
   "execution_count": null,
   "id": "a880a3d6",
   "metadata": {},
   "outputs": [],
   "source": []
  },
  {
   "cell_type": "code",
   "execution_count": 100,
   "id": "eb4f798d",
   "metadata": {},
   "outputs": [
    {
     "name": "stdout",
     "output_type": "stream",
     "text": [
      "1/1 [==============================] - 0s 47ms/step\n"
     ]
    },
    {
     "data": {
      "text/plain": [
       "5"
      ]
     },
     "execution_count": 100,
     "metadata": {},
     "output_type": "execute_result"
    }
   ],
   "source": [
    "np.argmax(model.predict(X))"
   ]
  },
  {
   "cell_type": "code",
   "execution_count": null,
   "id": "50b81b8b",
   "metadata": {},
   "outputs": [],
   "source": []
  }
 ],
 "metadata": {
  "kernelspec": {
   "display_name": "Python 3 (ipykernel)",
   "language": "python",
   "name": "python3"
  },
  "language_info": {
   "codemirror_mode": {
    "name": "ipython",
    "version": 3
   },
   "file_extension": ".py",
   "mimetype": "text/x-python",
   "name": "python",
   "nbconvert_exporter": "python",
   "pygments_lexer": "ipython3",
   "version": "3.11.4"
  }
 },
 "nbformat": 4,
 "nbformat_minor": 5
}
